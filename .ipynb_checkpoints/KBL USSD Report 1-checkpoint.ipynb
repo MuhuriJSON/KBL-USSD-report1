{
 "cells": [
  {
   "cell_type": "markdown",
   "metadata": {},
   "source": [
    "## Week of 27th April to 4th May 2020 Ussd Events Analysis\n",
    "\n",
    "#### Investigate:\n",
    "\n",
    "- Number of Events as they took place Hourly -  between Midday to 9 pm\n",
    "- USSD Requests Proportion of users (Only registered users)\n",
    "- Overall failures for the period (Only registered users)\n",
    "- USSD failure rates by day (Only registered users)"
   ]
  },
  {
   "cell_type": "markdown",
   "metadata": {},
   "source": [
    "##### Settings and necessary libraries"
   ]
  },
  {
   "cell_type": "code",
   "execution_count": 782,
   "metadata": {},
   "outputs": [],
   "source": [
    "import pandas as pd\n",
    "import numpy as np\n",
    "import scipy as scp\n",
    "\n",
    "import datetime\n",
    "\n",
    "import matplotlib.pyplot as plt\n",
    "import seaborn as sns\n",
    "\n",
    "%matplotlib inline\n",
    "plt.style.use('ggplot')\n",
    "# plt.style.use('seaborn-whitegrid')\n",
    "\n",
    "import re\n",
    "\n",
    "import warnings\n",
    "warnings.filterwarnings('ignore')\n",
    "\n",
    "import ipywidgets as widgets\n",
    "\n",
    "ColorPicker=widgets.ColorPicker(\n",
    "    concise=False,\n",
    "    description='Pick a color',\n",
    "    value='blue',\n",
    "    disabled=False\n",
    ")\n",
    "\n",
    "\n",
    "DatePicker=widgets.DatePicker(\n",
    "    description='Pick a Date',\n",
    "    disabled=False\n",
    ")\n"
   ]
  },
  {
   "cell_type": "markdown",
   "metadata": {},
   "source": [
    "##### Read in data & Explore Data"
   ]
  },
  {
   "cell_type": "code",
   "execution_count": 783,
   "metadata": {},
   "outputs": [
    {
     "name": "stdout",
     "output_type": "stream",
     "text": [
      "ID                0\n",
      "Customer      53344\n",
      "Date Added     3970\n",
      "Outcome           0\n",
      "Phone           170\n",
      "Response          0\n",
      "Task              0\n",
      "dtype: int64\n",
      "\n",
      "\n",
      "(53344, 7)\n",
      "\n",
      "\n"
     ]
    },
    {
     "data": {
      "text/html": [
       "<div>\n",
       "<style scoped>\n",
       "    .dataframe tbody tr th:only-of-type {\n",
       "        vertical-align: middle;\n",
       "    }\n",
       "\n",
       "    .dataframe tbody tr th {\n",
       "        vertical-align: top;\n",
       "    }\n",
       "\n",
       "    .dataframe thead th {\n",
       "        text-align: right;\n",
       "    }\n",
       "</style>\n",
       "<table border=\"1\" class=\"dataframe\">\n",
       "  <thead>\n",
       "    <tr style=\"text-align: right;\">\n",
       "      <th></th>\n",
       "      <th>ID</th>\n",
       "      <th>Customer</th>\n",
       "      <th>Date Added</th>\n",
       "      <th>Outcome</th>\n",
       "      <th>Phone</th>\n",
       "      <th>Response</th>\n",
       "      <th>Task</th>\n",
       "    </tr>\n",
       "  </thead>\n",
       "  <tbody>\n",
       "    <tr>\n",
       "      <td>0</td>\n",
       "      <td>106695</td>\n",
       "      <td>NaN</td>\n",
       "      <td>2020-05-04T08:22:31+03:00</td>\n",
       "      <td>SUCCESS</td>\n",
       "      <td>2.547640e+11</td>\n",
       "      <td>Order placed successfully</td>\n",
       "      <td>SubmitOrder</td>\n",
       "    </tr>\n",
       "    <tr>\n",
       "      <td>1</td>\n",
       "      <td>106693</td>\n",
       "      <td>NaN</td>\n",
       "      <td>2020-05-04T08:21:03+03:00</td>\n",
       "      <td>SUCCESS</td>\n",
       "      <td>2.547640e+11</td>\n",
       "      <td>Phone number found</td>\n",
       "      <td>Dial</td>\n",
       "    </tr>\n",
       "    <tr>\n",
       "      <td>2</td>\n",
       "      <td>106691</td>\n",
       "      <td>NaN</td>\n",
       "      <td>2020-05-04T07:38:17+03:00</td>\n",
       "      <td>SUCCESS</td>\n",
       "      <td>2.547644e+11</td>\n",
       "      <td>Order placed successfully</td>\n",
       "      <td>SubmitOrder</td>\n",
       "    </tr>\n",
       "    <tr>\n",
       "      <td>3</td>\n",
       "      <td>106689</td>\n",
       "      <td>NaN</td>\n",
       "      <td>2020-05-04T07:37:30+03:00</td>\n",
       "      <td>SUCCESS</td>\n",
       "      <td>2.547644e+11</td>\n",
       "      <td>Phone number found</td>\n",
       "      <td>Dial</td>\n",
       "    </tr>\n",
       "    <tr>\n",
       "      <td>4</td>\n",
       "      <td>106687</td>\n",
       "      <td>NaN</td>\n",
       "      <td>2020-05-04T07:15:27+03:00</td>\n",
       "      <td>SUCCESS</td>\n",
       "      <td>2.547645e+11</td>\n",
       "      <td>Order placed successfully</td>\n",
       "      <td>SubmitOrder</td>\n",
       "    </tr>\n",
       "  </tbody>\n",
       "</table>\n",
       "</div>"
      ],
      "text/plain": [
       "       ID  Customer                 Date Added  Outcome         Phone  \\\n",
       "0  106695       NaN  2020-05-04T08:22:31+03:00  SUCCESS  2.547640e+11   \n",
       "1  106693       NaN  2020-05-04T08:21:03+03:00  SUCCESS  2.547640e+11   \n",
       "2  106691       NaN  2020-05-04T07:38:17+03:00  SUCCESS  2.547644e+11   \n",
       "3  106689       NaN  2020-05-04T07:37:30+03:00  SUCCESS  2.547644e+11   \n",
       "4  106687       NaN  2020-05-04T07:15:27+03:00  SUCCESS  2.547645e+11   \n",
       "\n",
       "                    Response         Task  \n",
       "0  Order placed successfully  SubmitOrder  \n",
       "1         Phone number found         Dial  \n",
       "2  Order placed successfully  SubmitOrder  \n",
       "3         Phone number found         Dial  \n",
       "4  Order placed successfully  SubmitOrder  "
      ]
     },
     "execution_count": 783,
     "metadata": {},
     "output_type": "execute_result"
    }
   ],
   "source": [
    "events=pd.read_csv('events.csv')\n",
    "\n",
    "print(events.isnull().sum())\n",
    "print('\\n')\n",
    "print(events.shape)\n",
    "print('\\n')\n",
    "events.head()"
   ]
  },
  {
   "cell_type": "markdown",
   "metadata": {},
   "source": [
    "##### The entire customer column is empty, we will drop it. Also there are events for which timestamp was not recorded, we will drop those events since we want to analyze data for a specific period (27th April to 4th May)"
   ]
  },
  {
   "cell_type": "markdown",
   "metadata": {},
   "source": [
    "##### Drop \"Customer\" Column "
   ]
  },
  {
   "cell_type": "code",
   "execution_count": 784,
   "metadata": {},
   "outputs": [],
   "source": [
    "events.drop(['Customer'], axis=1,inplace=True)"
   ]
  },
  {
   "cell_type": "markdown",
   "metadata": {},
   "source": [
    "##### Drop the 3,970 events with no timestamp (Date Added)"
   ]
  },
  {
   "cell_type": "code",
   "execution_count": 785,
   "metadata": {},
   "outputs": [],
   "source": [
    "events=events[events['Date Added'].notna()]"
   ]
  },
  {
   "cell_type": "markdown",
   "metadata": {},
   "source": [
    "##### Separate Date & Time from 'Date Added' for the remaining events"
   ]
  },
  {
   "cell_type": "code",
   "execution_count": 786,
   "metadata": {},
   "outputs": [],
   "source": [
    "events['Date']=events['Date Added'].str[:10]\n",
    "events['Time']=events['Date Added'].str[11:19]"
   ]
  },
  {
   "cell_type": "markdown",
   "metadata": {},
   "source": [
    "##### Convert 'Date' to datetime to be able to calculate time delta"
   ]
  },
  {
   "cell_type": "code",
   "execution_count": 787,
   "metadata": {},
   "outputs": [],
   "source": [
    "events['Date']=pd.to_datetime(events['Date'])"
   ]
  },
  {
   "cell_type": "markdown",
   "metadata": {},
   "source": [
    "##### Filter Data between 27th April & 4th May 2020; the period of interest"
   ]
  },
  {
   "cell_type": "code",
   "execution_count": 788,
   "metadata": {},
   "outputs": [],
   "source": [
    "events=events[(events['Date']>'2020-04-26')&(events['Date']<'2020-05-04')]"
   ]
  },
  {
   "cell_type": "markdown",
   "metadata": {},
   "source": [
    "##### Create 'Hour' column from 'Time'"
   ]
  },
  {
   "cell_type": "code",
   "execution_count": 789,
   "metadata": {},
   "outputs": [],
   "source": [
    "events['Hour']=events['Time'].str[:2]+'00hrs'"
   ]
  },
  {
   "cell_type": "markdown",
   "metadata": {},
   "source": [
    "##### View the first 5 events after preprocessing data"
   ]
  },
  {
   "cell_type": "code",
   "execution_count": 790,
   "metadata": {},
   "outputs": [
    {
     "data": {
      "text/html": [
       "<div>\n",
       "<style scoped>\n",
       "    .dataframe tbody tr th:only-of-type {\n",
       "        vertical-align: middle;\n",
       "    }\n",
       "\n",
       "    .dataframe tbody tr th {\n",
       "        vertical-align: top;\n",
       "    }\n",
       "\n",
       "    .dataframe thead th {\n",
       "        text-align: right;\n",
       "    }\n",
       "</style>\n",
       "<table border=\"1\" class=\"dataframe\">\n",
       "  <thead>\n",
       "    <tr style=\"text-align: right;\">\n",
       "      <th></th>\n",
       "      <th>ID</th>\n",
       "      <th>Date Added</th>\n",
       "      <th>Outcome</th>\n",
       "      <th>Phone</th>\n",
       "      <th>Response</th>\n",
       "      <th>Task</th>\n",
       "      <th>Date</th>\n",
       "      <th>Time</th>\n",
       "      <th>Hour</th>\n",
       "    </tr>\n",
       "  </thead>\n",
       "  <tbody>\n",
       "    <tr>\n",
       "      <td>14</td>\n",
       "      <td>106667</td>\n",
       "      <td>2020-05-03T20:05:12+03:00</td>\n",
       "      <td>SUCCESS</td>\n",
       "      <td>2.547639e+11</td>\n",
       "      <td>Order placed successfully</td>\n",
       "      <td>SubmitOrder</td>\n",
       "      <td>2020-05-03</td>\n",
       "      <td>20:05:12</td>\n",
       "      <td>2000hrs</td>\n",
       "    </tr>\n",
       "    <tr>\n",
       "      <td>15</td>\n",
       "      <td>106665</td>\n",
       "      <td>2020-05-03T20:04:21+03:00</td>\n",
       "      <td>SUCCESS</td>\n",
       "      <td>2.547639e+11</td>\n",
       "      <td>Phone number found</td>\n",
       "      <td>Dial</td>\n",
       "      <td>2020-05-03</td>\n",
       "      <td>20:04:21</td>\n",
       "      <td>2000hrs</td>\n",
       "    </tr>\n",
       "    <tr>\n",
       "      <td>16</td>\n",
       "      <td>106663</td>\n",
       "      <td>2020-05-03T19:30:33+03:00</td>\n",
       "      <td>SUCCESS</td>\n",
       "      <td>2.547637e+11</td>\n",
       "      <td>Order placed successfully</td>\n",
       "      <td>SubmitOrder</td>\n",
       "      <td>2020-05-03</td>\n",
       "      <td>19:30:33</td>\n",
       "      <td>1900hrs</td>\n",
       "    </tr>\n",
       "    <tr>\n",
       "      <td>17</td>\n",
       "      <td>106661</td>\n",
       "      <td>2020-05-03T19:28:32+03:00</td>\n",
       "      <td>SUCCESS</td>\n",
       "      <td>2.547637e+11</td>\n",
       "      <td>Phone number found</td>\n",
       "      <td>Dial</td>\n",
       "      <td>2020-05-03</td>\n",
       "      <td>19:28:32</td>\n",
       "      <td>1900hrs</td>\n",
       "    </tr>\n",
       "    <tr>\n",
       "      <td>18</td>\n",
       "      <td>106659</td>\n",
       "      <td>2020-05-03T18:57:55+03:00</td>\n",
       "      <td>SUCCESS</td>\n",
       "      <td>2.547642e+11</td>\n",
       "      <td>Order placed successfully</td>\n",
       "      <td>SubmitOrder</td>\n",
       "      <td>2020-05-03</td>\n",
       "      <td>18:57:55</td>\n",
       "      <td>1800hrs</td>\n",
       "    </tr>\n",
       "  </tbody>\n",
       "</table>\n",
       "</div>"
      ],
      "text/plain": [
       "        ID                 Date Added  Outcome         Phone  \\\n",
       "14  106667  2020-05-03T20:05:12+03:00  SUCCESS  2.547639e+11   \n",
       "15  106665  2020-05-03T20:04:21+03:00  SUCCESS  2.547639e+11   \n",
       "16  106663  2020-05-03T19:30:33+03:00  SUCCESS  2.547637e+11   \n",
       "17  106661  2020-05-03T19:28:32+03:00  SUCCESS  2.547637e+11   \n",
       "18  106659  2020-05-03T18:57:55+03:00  SUCCESS  2.547642e+11   \n",
       "\n",
       "                     Response         Task       Date      Time     Hour  \n",
       "14  Order placed successfully  SubmitOrder 2020-05-03  20:05:12  2000hrs  \n",
       "15         Phone number found         Dial 2020-05-03  20:04:21  2000hrs  \n",
       "16  Order placed successfully  SubmitOrder 2020-05-03  19:30:33  1900hrs  \n",
       "17         Phone number found         Dial 2020-05-03  19:28:32  1900hrs  \n",
       "18  Order placed successfully  SubmitOrder 2020-05-03  18:57:55  1800hrs  "
      ]
     },
     "execution_count": 790,
     "metadata": {},
     "output_type": "execute_result"
    }
   ],
   "source": [
    "events.head()"
   ]
  },
  {
   "cell_type": "markdown",
   "metadata": {},
   "source": [
    "## 1. No. of Events as they took place Hourly -  between Midday to 9 pm"
   ]
  },
  {
   "cell_type": "markdown",
   "metadata": {},
   "source": [
    "##### filter events between mid day and 9pm"
   ]
  },
  {
   "cell_type": "code",
   "execution_count": 791,
   "metadata": {},
   "outputs": [],
   "source": [
    "midday_to_9pm=events[(events['Hour']>='12')&(events['Hour']<'21')]"
   ]
  },
  {
   "cell_type": "markdown",
   "metadata": {},
   "source": [
    "##### plot events by hour between midday and 2100hrs"
   ]
  },
  {
   "cell_type": "code",
   "execution_count": 792,
   "metadata": {},
   "outputs": [
    {
     "data": {
      "image/png": "[encoded data removed]",
      "text/plain": [
       "<Figure size 640x480 with 1 Axes>"
      ]
     },
     "metadata": {},
     "output_type": "display_data"
    }
   ],
   "source": [
    "plt.figure(num=None, figsize=(8, 6), dpi=80, facecolor='w', edgecolor='k')\n",
    "midday_to_9pm['Hour'].value_counts().sort_index().plot.barh(color='purple')\n",
    "\n",
    "plt.title('Number of USSD Dials Between midday & 2100hrs by hour ')\n",
    "plt.xlabel('Number of Events')\n",
    "plt.ylabel('Hour')\n",
    "# plt.figtext(.8, .8, \"# events\")\n",
    "plt.show()"
   ]
  },
  {
   "cell_type": "markdown",
   "metadata": {},
   "source": [
    "##### most ussd dials during the week occured between 1500hrs and 1700hrs, peak period being 1600hrs\n",
    "##### ***(Kindly note some dials did not record timestamp, hence they are not reflected here)"
   ]
  },
  {
   "cell_type": "markdown",
   "metadata": {},
   "source": [
    "## 2. Proportion of registered USSD request users for the period\n",
    "\n",
    "Registered ussd users who dialed and those who didnt"
   ]
  },
  {
   "cell_type": "markdown",
   "metadata": {},
   "source": [
    "##### Drop Events (170) with no phone numbers as they are not relevant"
   ]
  },
  {
   "cell_type": "code",
   "execution_count": 793,
   "metadata": {},
   "outputs": [],
   "source": [
    "events=events[events['Phone'].notna()]"
   ]
  },
  {
   "cell_type": "markdown",
   "metadata": {},
   "source": [
    "##### USSD Requests are ussd dials, select where task is 'Dial'"
   ]
  },
  {
   "cell_type": "code",
   "execution_count": 794,
   "metadata": {},
   "outputs": [],
   "source": [
    "ussd_requests=events[events['Task']=='Dial']"
   ]
  },
  {
   "cell_type": "markdown",
   "metadata": {},
   "source": [
    "##### Clean 'Phone' column"
   ]
  },
  {
   "cell_type": "code",
   "execution_count": 795,
   "metadata": {},
   "outputs": [],
   "source": [
    "ussd_requests['Phone']=ussd_requests['Phone'].astype(str).str[0:12]"
   ]
  },
  {
   "cell_type": "markdown",
   "metadata": {},
   "source": [
    "##### Get all registered users from customer's API\n",
    "http://197.254.84.134:8082/api/customer/list"
   ]
  },
  {
   "cell_type": "markdown",
   "metadata": {},
   "source": [
    "##### Read in api content and retrieve phone numbers"
   ]
  },
  {
   "cell_type": "code",
   "execution_count": 796,
   "metadata": {},
   "outputs": [
    {
     "name": "stdout",
     "output_type": "stream",
     "text": [
      "588\n"
     ]
    },
    {
     "data": {
      "text/html": [
       "<div>\n",
       "<style scoped>\n",
       "    .dataframe tbody tr th:only-of-type {\n",
       "        vertical-align: middle;\n",
       "    }\n",
       "\n",
       "    .dataframe tbody tr th {\n",
       "        vertical-align: top;\n",
       "    }\n",
       "\n",
       "    .dataframe thead th {\n",
       "        text-align: right;\n",
       "    }\n",
       "</style>\n",
       "<table border=\"1\" class=\"dataframe\">\n",
       "  <thead>\n",
       "    <tr style=\"text-align: right;\">\n",
       "      <th></th>\n",
       "      <th>Number</th>\n",
       "    </tr>\n",
       "  </thead>\n",
       "  <tbody>\n",
       "    <tr>\n",
       "      <td>0</td>\n",
       "      <td>254764719863</td>\n",
       "    </tr>\n",
       "    <tr>\n",
       "      <td>1</td>\n",
       "      <td>254763952674</td>\n",
       "    </tr>\n",
       "    <tr>\n",
       "      <td>2</td>\n",
       "      <td>254764019493</td>\n",
       "    </tr>\n",
       "    <tr>\n",
       "      <td>3</td>\n",
       "      <td>254764666544</td>\n",
       "    </tr>\n",
       "    <tr>\n",
       "      <td>4</td>\n",
       "      <td>254724589504</td>\n",
       "    </tr>\n",
       "  </tbody>\n",
       "</table>\n",
       "</div>"
      ],
      "text/plain": [
       "         Number\n",
       "0  254764719863\n",
       "1  254763952674\n",
       "2  254764019493\n",
       "3  254764666544\n",
       "4  254724589504"
      ]
     },
     "execution_count": 796,
     "metadata": {},
     "output_type": "execute_result"
    }
   ],
   "source": [
    "customers=pd.read_fwf('customers.txt',names=['Number'])\n",
    "phone_numbers=[]\n",
    "for string in customers['Number']:\n",
    "    if '<PhoneNumber>' in string:       \n",
    "        if len(string)==39:            \n",
    "            number=string[13:25]\n",
    "            phone_numbers.append(number)\n",
    "            \n",
    "print(len(phone_numbers))\n",
    "phone_numbers=pd.DataFrame(phone_numbers,columns =['Number'])\n",
    "phone_numbers.head()"
   ]
  },
  {
   "cell_type": "markdown",
   "metadata": {},
   "source": [
    "##### Check number of registered users who dialed and those who didnt dial ussd during the period "
   ]
  },
  {
   "cell_type": "code",
   "execution_count": 797,
   "metadata": {},
   "outputs": [
    {
     "data": {
      "text/plain": [
       "Dialed        334\n",
       "Didnt Dial    254\n",
       "dtype: int64"
      ]
     },
     "execution_count": 797,
     "metadata": {},
     "output_type": "execute_result"
    }
   ],
   "source": [
    "registered=phone_numbers['Number'].to_list()\n",
    "dialed=ussd_requests['Phone'].drop_duplicates().to_list()\n",
    "\n",
    "\n",
    "def registered_dialed_or_didnt(list1,list2):\n",
    "    RegisteredDialedOrNot=[] \n",
    "    for number in list1:\n",
    "        if number in list2:\n",
    "            RegisteredDialedOrNot.append('Dialed')\n",
    "        else:\n",
    "            RegisteredDialedOrNot.append('Didnt Dial')\n",
    "    return RegisteredDialedOrNot\n",
    "\n",
    "\n",
    "RegisteredDialedOrNot=registered_dialed_or_didnt(registered,dialed)\n",
    "RegisteredDialedOrNot=pd.Series(RegisteredDialedOrNot)\n",
    "RegisteredDialedOrNot.value_counts()"
   ]
  },
  {
   "cell_type": "markdown",
   "metadata": {},
   "source": [
    "##### Plot dialed or didnt"
   ]
  },
  {
   "cell_type": "code",
   "execution_count": 798,
   "metadata": {},
   "outputs": [
    {
     "data": {
      "image/png": "[encoded data removed]",
      "text/plain": [
       "<Figure size 640x480 with 1 Axes>"
      ]
     },
     "metadata": {},
     "output_type": "display_data"
    }
   ],
   "source": [
    "plt.figure(num=None, figsize=(8, 6), dpi=80, facecolor='w', edgecolor='k')\n",
    "RegisteredDialedOrNot.value_counts().sort_index().plot.bar(color=['#d02f74','#d02f74'])\n",
    "\n",
    "plt.title('USSD Registered users dialed or not')\n",
    "plt.ylabel('Number of Registered Users')\n",
    "plt.xlabel('Dialed or Not')\n",
    "plt.ylim(0,500)\n",
    "# plt.figtext(.8, .8, \"# events\")\n",
    "plt.show()"
   ]
  },
  {
   "cell_type": "markdown",
   "metadata": {},
   "source": [
    "## 3. Overall USSD dial failures for the period (Only registered users)"
   ]
  },
  {
   "cell_type": "markdown",
   "metadata": {},
   "source": [
    "##### Create a new column for RegisteredOrNot for each ussd dial"
   ]
  },
  {
   "cell_type": "code",
   "execution_count": 799,
   "metadata": {
    "scrolled": true
   },
   "outputs": [
    {
     "data": {
      "text/plain": [
       "Registered        3488\n",
       "Not Registered      61\n",
       "Name: RegisteredOrNot, dtype: int64"
      ]
     },
     "execution_count": 799,
     "metadata": {},
     "output_type": "execute_result"
    }
   ],
   "source": [
    "DailedRegisteredOrNot=[]\n",
    "for number in ussd_requests['Phone']:\n",
    "    if number in registered:\n",
    "        DailedRegisteredOrNot.append('Registered')\n",
    "    else:\n",
    "        DailedRegisteredOrNot.append('Not Registered')\n",
    "ussd_requests['RegisteredOrNot']=DailedRegisteredOrNot\n",
    "ussd_requests['RegisteredOrNot'].value_counts()"
   ]
  },
  {
   "cell_type": "code",
   "execution_count": 800,
   "metadata": {},
   "outputs": [
    {
     "data": {
      "image/png": "[encoded data removed]",
      "text/plain": [
       "<Figure size 640x400 with 1 Axes>"
      ]
     },
     "metadata": {},
     "output_type": "display_data"
    }
   ],
   "source": [
    "plt.figure(num=None, figsize=(8, 5), dpi=80, facecolor='w', edgecolor='k')\n",
    "\n",
    "\n",
    "plt.pie(ussd_requests['RegisteredOrNot'].value_counts(),autopct='%1.2f',labels=['Registered','Not Registered'],\\\n",
    "        colors=['#b538c7','#1348ac'],\\\n",
    "        pctdistance=1.7,shadow=True,radius=0.9,startangle=15,explode=[0.5,.001],wedgeprops = {'linewidth': 3})\n",
    "plt.title('USSD Dialers, Registered/Not Registered')\n",
    "plt.show()\n"
   ]
  },
  {
   "cell_type": "markdown",
   "metadata": {},
   "source": [
    "##### There were 3,495 (98.26%) ussd dials by registered users and 62 (1.74%) by non registered users"
   ]
  },
  {
   "cell_type": "markdown",
   "metadata": {},
   "source": [
    "##### keep ussd dials for only registered users"
   ]
  },
  {
   "cell_type": "code",
   "execution_count": 801,
   "metadata": {},
   "outputs": [
    {
     "data": {
      "text/html": [
       "<div>\n",
       "<style scoped>\n",
       "    .dataframe tbody tr th:only-of-type {\n",
       "        vertical-align: middle;\n",
       "    }\n",
       "\n",
       "    .dataframe tbody tr th {\n",
       "        vertical-align: top;\n",
       "    }\n",
       "\n",
       "    .dataframe thead th {\n",
       "        text-align: right;\n",
       "    }\n",
       "</style>\n",
       "<table border=\"1\" class=\"dataframe\">\n",
       "  <thead>\n",
       "    <tr style=\"text-align: right;\">\n",
       "      <th></th>\n",
       "      <th>ID</th>\n",
       "      <th>Date Added</th>\n",
       "      <th>Outcome</th>\n",
       "      <th>Phone</th>\n",
       "      <th>Response</th>\n",
       "      <th>Task</th>\n",
       "      <th>Date</th>\n",
       "      <th>Time</th>\n",
       "      <th>Hour</th>\n",
       "      <th>RegisteredOrNot</th>\n",
       "    </tr>\n",
       "  </thead>\n",
       "  <tbody>\n",
       "    <tr>\n",
       "      <td>15</td>\n",
       "      <td>106665</td>\n",
       "      <td>2020-05-03T20:04:21+03:00</td>\n",
       "      <td>SUCCESS</td>\n",
       "      <td>254763911569</td>\n",
       "      <td>Phone number found</td>\n",
       "      <td>Dial</td>\n",
       "      <td>2020-05-03</td>\n",
       "      <td>20:04:21</td>\n",
       "      <td>2000hrs</td>\n",
       "      <td>Registered</td>\n",
       "    </tr>\n",
       "    <tr>\n",
       "      <td>17</td>\n",
       "      <td>106661</td>\n",
       "      <td>2020-05-03T19:28:32+03:00</td>\n",
       "      <td>SUCCESS</td>\n",
       "      <td>254763721623</td>\n",
       "      <td>Phone number found</td>\n",
       "      <td>Dial</td>\n",
       "      <td>2020-05-03</td>\n",
       "      <td>19:28:32</td>\n",
       "      <td>1900hrs</td>\n",
       "      <td>Registered</td>\n",
       "    </tr>\n",
       "    <tr>\n",
       "      <td>19</td>\n",
       "      <td>106657</td>\n",
       "      <td>2020-05-03T18:54:41+03:00</td>\n",
       "      <td>SUCCESS</td>\n",
       "      <td>254764151291</td>\n",
       "      <td>Phone number found</td>\n",
       "      <td>Dial</td>\n",
       "      <td>2020-05-03</td>\n",
       "      <td>18:54:41</td>\n",
       "      <td>1800hrs</td>\n",
       "      <td>Registered</td>\n",
       "    </tr>\n",
       "    <tr>\n",
       "      <td>20</td>\n",
       "      <td>106655</td>\n",
       "      <td>2020-05-03T18:52:19+03:00</td>\n",
       "      <td>SUCCESS</td>\n",
       "      <td>254764151291</td>\n",
       "      <td>Phone number found</td>\n",
       "      <td>Dial</td>\n",
       "      <td>2020-05-03</td>\n",
       "      <td>18:52:19</td>\n",
       "      <td>1800hrs</td>\n",
       "      <td>Registered</td>\n",
       "    </tr>\n",
       "    <tr>\n",
       "      <td>22</td>\n",
       "      <td>106651</td>\n",
       "      <td>2020-05-03T18:49:18+03:00</td>\n",
       "      <td>SUCCESS</td>\n",
       "      <td>254764151291</td>\n",
       "      <td>Phone number found</td>\n",
       "      <td>Dial</td>\n",
       "      <td>2020-05-03</td>\n",
       "      <td>18:49:18</td>\n",
       "      <td>1800hrs</td>\n",
       "      <td>Registered</td>\n",
       "    </tr>\n",
       "  </tbody>\n",
       "</table>\n",
       "</div>"
      ],
      "text/plain": [
       "        ID                 Date Added  Outcome         Phone  \\\n",
       "15  106665  2020-05-03T20:04:21+03:00  SUCCESS  254763911569   \n",
       "17  106661  2020-05-03T19:28:32+03:00  SUCCESS  254763721623   \n",
       "19  106657  2020-05-03T18:54:41+03:00  SUCCESS  254764151291   \n",
       "20  106655  2020-05-03T18:52:19+03:00  SUCCESS  254764151291   \n",
       "22  106651  2020-05-03T18:49:18+03:00  SUCCESS  254764151291   \n",
       "\n",
       "              Response  Task       Date      Time     Hour RegisteredOrNot  \n",
       "15  Phone number found  Dial 2020-05-03  20:04:21  2000hrs      Registered  \n",
       "17  Phone number found  Dial 2020-05-03  19:28:32  1900hrs      Registered  \n",
       "19  Phone number found  Dial 2020-05-03  18:54:41  1800hrs      Registered  \n",
       "20  Phone number found  Dial 2020-05-03  18:52:19  1800hrs      Registered  \n",
       "22  Phone number found  Dial 2020-05-03  18:49:18  1800hrs      Registered  "
      ]
     },
     "execution_count": 801,
     "metadata": {},
     "output_type": "execute_result"
    }
   ],
   "source": [
    "ussd_requests=ussd_requests[ussd_requests['RegisteredOrNot']=='Registered']\n",
    "ussd_requests.head()"
   ]
  },
  {
   "cell_type": "markdown",
   "metadata": {},
   "source": [
    "##### plot USSD outcomes for the remaining Dials"
   ]
  },
  {
   "cell_type": "code",
   "execution_count": 802,
   "metadata": {},
   "outputs": [
    {
     "data": {
      "image/png": "[encoded data removed]",
      "text/plain": [
       "<Figure size 640x400 with 1 Axes>"
      ]
     },
     "metadata": {},
     "output_type": "display_data"
    }
   ],
   "source": [
    "plt.figure(num=None, figsize=(8, 5), dpi=80, facecolor='w', edgecolor='k')\n",
    "\n",
    "\n",
    "plt.pie(ussd_requests['Outcome'].value_counts(),autopct='%1.2f',labels=['Success','Fail'],colors=['#64ae11','r'],\\\n",
    "        pctdistance=1.3,shadow=True,radius=0.9,startangle=50,explode=[0.5,0.05],wedgeprops = {'linewidth': 3})\n",
    "plt.title('Overall USSD Dials Failure rate in % for the period (for registered users)')\n",
    "plt.show()"
   ]
  },
  {
   "cell_type": "markdown",
   "metadata": {},
   "source": [
    "##### 99.28% of ussd dials were successful"
   ]
  },
  {
   "cell_type": "markdown",
   "metadata": {},
   "source": [
    "## 4. Number of USSD requests by day (registered users)"
   ]
  },
  {
   "cell_type": "markdown",
   "metadata": {},
   "source": [
    "##### Create Day of Week column from Date"
   ]
  },
  {
   "cell_type": "code",
   "execution_count": 803,
   "metadata": {},
   "outputs": [],
   "source": [
    "days_of_week=[]\n",
    "for date in ussd_requests['Date'].to_list():\n",
    "    day_of_week=date.strftime(\"%A\")\n",
    "    days_of_week.append(day_of_week)\n",
    "\n",
    "ussd_requests['Day of Week']=days_of_week"
   ]
  },
  {
   "cell_type": "code",
   "execution_count": 804,
   "metadata": {
    "scrolled": true
   },
   "outputs": [
    {
     "data": {
      "image/png": "[encoded data removed]",
      "text/plain": [
       "<Figure size 400x240 with 1 Axes>"
      ]
     },
     "metadata": {},
     "output_type": "display_data"
    }
   ],
   "source": [
    "plt.figure(num=None, figsize=(5, 3), dpi=80, facecolor='w', edgecolor='k')\n",
    "ussd_requests['Day of Week'].value_counts().sort_index().plot.line(color=['#07f89d','#d02f74'])\n",
    "\n",
    "plt.title('Variation of Ussd dial requests by day of week')\n",
    "plt.ylabel('Number of ussd dial requests')\n",
    "plt.xlabel('Day of week')\n",
    "plt.ylim(200,800)\n",
    "plt.xticks(rotation=90)\n",
    "# plt.figtext(.8, .8, \"# events\")\n",
    "plt.show()"
   ]
  },
  {
   "cell_type": "markdown",
   "metadata": {},
   "source": [
    "## USSD failure rates by day (Only registered users)"
   ]
  },
  {
   "cell_type": "code",
   "execution_count": 842,
   "metadata": {},
   "outputs": [
    {
     "data": {
      "text/plain": [
       "Day of Week  Outcome\n",
       "Friday       ERROR        1\n",
       "             SUCCESS    462\n",
       "Monday       ERROR       10\n",
       "             SUCCESS    439\n",
       "Saturday     SUCCESS    565\n",
       "Sunday       SUCCESS    535\n",
       "Thursday     ERROR        6\n",
       "             SUCCESS    596\n",
       "Tuesday      SUCCESS    429\n",
       "Wednesday    ERROR        8\n",
       "             SUCCESS    437\n",
       "Name: Task, dtype: int64"
      ]
     },
     "execution_count": 842,
     "metadata": {},
     "output_type": "execute_result"
    }
   ],
   "source": [
    "x=ussd_requests.groupby(['Day of Week','Outcome']).count()['Task']\n",
    "x"
   ]
  },
  {
   "cell_type": "code",
   "execution_count": 853,
   "metadata": {},
   "outputs": [
    {
     "data": {
      "text/plain": [
       "<Figure size 2160x1620 with 0 Axes>"
      ]
     },
     "metadata": {},
     "output_type": "display_data"
    },
    {
     "data": {
      "image/png": "[encoded data removed]",
      "text/plain": [
       "<Figure size 432x288 with 1 Axes>"
      ]
     },
     "metadata": {},
     "output_type": "display_data"
    }
   ],
   "source": [
    "plt.figure(num=None, figsize=(12, 9), dpi=180, facecolor='w', edgecolor='k')\n",
    "N = 2\n",
    "ind = np.arange(N)  # the x locations for the groups\n",
    "width = 1.0       # the width of the bars\n",
    "\n",
    "fig = plt.figure()\n",
    "ax = fig.add_subplot(111)\n",
    "\n",
    "sunvals = [535,0]\n",
    "rects1 = ax.bar(ind, sunvals, width)\n",
    "monvals = [439,10]\n",
    "rects2 = ax.bar(ind+width, monvals, width)\n",
    "tuesvals = [429,0]\n",
    "rects3 = ax.bar(ind+width*4, tuesvals, width)\n",
    "wedvals = [437,8]\n",
    "rects4 = ax.bar(ind+width*8, wedvals, width)\n",
    "thursvals = [596,6]\n",
    "rects5 = ax.bar(ind+width*16, thursvals, width)\n",
    "frivals = [462,1]\n",
    "rects6 = ax.bar(ind+width*32, frivals, width)\n",
    "satvals = [565,0]\n",
    "rects7 = ax.bar(ind+width*16, satvals, width)\n",
    "\n",
    "ax.set_ylabel('Rates')\n",
    "ax.set_xticks(ind+width)\n",
    "ax.set_xticklabels( ('Sun', 'Mon', 'Tues','Wed','Thurs','Fri','Sat') )\n",
    "# ax.legend( (rects1[0], rects2[0], rects3[0],rects4[0],rects5[0],rects6[0],rects7[0]),\\\n",
    "#           ('Sun', 'Mon', 'Tues','Wed','Thur','Fri','Sat') )\n",
    "\n",
    "def autolabel(rects):\n",
    "    for rect in rects:\n",
    "        h = rect.get_height()\n",
    "        ax.text(rect.get_x()+rect.get_width()/2., 1.05*h, '%d'%int(h),\n",
    "                ha='center', va='bottom')\n",
    "\n",
    "# autolabel(rects1)\n",
    "# autolabel(rects2)\n",
    "# autolabel(rects3)\n",
    "# autolabel(rects4)\n",
    "# autolabel(rects5)\n",
    "# autolabel(rects6)\n",
    "# autolabel(rects7)\n",
    "\n",
    "plt.show()"
   ]
  },
  {
   "cell_type": "code",
   "execution_count": null,
   "metadata": {},
   "outputs": [],
   "source": []
  }
 ],
 "metadata": {
  "kernelspec": {
   "display_name": "Python 3",
   "language": "python",
   "name": "python3"
  },
  "language_info": {
   "codemirror_mode": {
    "name": "ipython",
    "version": 3
   },
   "file_extension": ".py",
   "mimetype": "text/x-python",
   "name": "python",
   "nbconvert_exporter": "python",
   "pygments_lexer": "ipython3",
   "version": "3.7.4"
  }
 },
 "nbformat": 4,
 "nbformat_minor": 2
}
