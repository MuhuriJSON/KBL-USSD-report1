{
 "cells": [
  {
   "cell_type": "markdown",
   "metadata": {},
   "source": [
    "## Week of 27th April to 4th May 2020 Ussd Events Analysis\n",
    "\n",
    "#### Investigate:\n",
    "\n",
    "- Number of Events as they took place Hourly -  between Midday to 9 pm\n",
    "- USSD Requests Proportion of users (Only registered users)\n",
    "- Overall failures for the period (Only registered users)\n",
    "- USSD failure rates by day (Only registered users)"
   ]
  },
  {
   "cell_type": "markdown",
   "metadata": {},
   "source": [
    "##### Settings and necessary libraries"
   ]
  },
  {
   "cell_type": "code",
   "execution_count": 373,
   "metadata": {},
   "outputs": [],
   "source": [
    "import pandas as pd\n",
    "import numpy as np\n",
    "import scipy as scp\n",
    "\n",
    "import matplotlib.pyplot as plt\n",
    "import seaborn as sns\n",
    "\n",
    "%matplotlib inline\n",
    "plt.style.use('ggplot')\n",
    "\n",
    "import re\n",
    "\n",
    "import warnings\n",
    "warnings.filterwarnings('ignore')\n",
    "\n",
    "import ipywidgets as widgets\n",
    "\n",
    "ColorPicker=widgets.ColorPicker(\n",
    "    concise=False,\n",
    "    description='Pick a color',\n",
    "    value='blue',\n",
    "    disabled=False\n",
    ")\n",
    "\n",
    "\n",
    "DatePicker=widgets.DatePicker(\n",
    "    description='Pick a Date',\n",
    "    disabled=False\n",
    ")\n"
   ]
  },
  {
   "cell_type": "markdown",
   "metadata": {},
   "source": [
    "##### Read in data & Explore Data"
   ]
  },
  {
   "cell_type": "code",
   "execution_count": 374,
   "metadata": {},
   "outputs": [
    {
     "name": "stdout",
     "output_type": "stream",
     "text": [
      "ID                0\n",
      "Customer      53344\n",
      "Date Added     3970\n",
      "Outcome           0\n",
      "Phone           170\n",
      "Response          0\n",
      "Task              0\n",
      "dtype: int64\n",
      "\n",
      "\n",
      "(53344, 7)\n",
      "\n",
      "\n"
     ]
    },
    {
     "data": {
      "text/html": [
       "<div>\n",
       "<style scoped>\n",
       "    .dataframe tbody tr th:only-of-type {\n",
       "        vertical-align: middle;\n",
       "    }\n",
       "\n",
       "    .dataframe tbody tr th {\n",
       "        vertical-align: top;\n",
       "    }\n",
       "\n",
       "    .dataframe thead th {\n",
       "        text-align: right;\n",
       "    }\n",
       "</style>\n",
       "<table border=\"1\" class=\"dataframe\">\n",
       "  <thead>\n",
       "    <tr style=\"text-align: right;\">\n",
       "      <th></th>\n",
       "      <th>ID</th>\n",
       "      <th>Customer</th>\n",
       "      <th>Date Added</th>\n",
       "      <th>Outcome</th>\n",
       "      <th>Phone</th>\n",
       "      <th>Response</th>\n",
       "      <th>Task</th>\n",
       "    </tr>\n",
       "  </thead>\n",
       "  <tbody>\n",
       "    <tr>\n",
       "      <td>0</td>\n",
       "      <td>106695</td>\n",
       "      <td>NaN</td>\n",
       "      <td>2020-05-04T08:22:31+03:00</td>\n",
       "      <td>SUCCESS</td>\n",
       "      <td>2.547640e+11</td>\n",
       "      <td>Order placed successfully</td>\n",
       "      <td>SubmitOrder</td>\n",
       "    </tr>\n",
       "    <tr>\n",
       "      <td>1</td>\n",
       "      <td>106693</td>\n",
       "      <td>NaN</td>\n",
       "      <td>2020-05-04T08:21:03+03:00</td>\n",
       "      <td>SUCCESS</td>\n",
       "      <td>2.547640e+11</td>\n",
       "      <td>Phone number found</td>\n",
       "      <td>Dial</td>\n",
       "    </tr>\n",
       "    <tr>\n",
       "      <td>2</td>\n",
       "      <td>106691</td>\n",
       "      <td>NaN</td>\n",
       "      <td>2020-05-04T07:38:17+03:00</td>\n",
       "      <td>SUCCESS</td>\n",
       "      <td>2.547644e+11</td>\n",
       "      <td>Order placed successfully</td>\n",
       "      <td>SubmitOrder</td>\n",
       "    </tr>\n",
       "    <tr>\n",
       "      <td>3</td>\n",
       "      <td>106689</td>\n",
       "      <td>NaN</td>\n",
       "      <td>2020-05-04T07:37:30+03:00</td>\n",
       "      <td>SUCCESS</td>\n",
       "      <td>2.547644e+11</td>\n",
       "      <td>Phone number found</td>\n",
       "      <td>Dial</td>\n",
       "    </tr>\n",
       "    <tr>\n",
       "      <td>4</td>\n",
       "      <td>106687</td>\n",
       "      <td>NaN</td>\n",
       "      <td>2020-05-04T07:15:27+03:00</td>\n",
       "      <td>SUCCESS</td>\n",
       "      <td>2.547645e+11</td>\n",
       "      <td>Order placed successfully</td>\n",
       "      <td>SubmitOrder</td>\n",
       "    </tr>\n",
       "  </tbody>\n",
       "</table>\n",
       "</div>"
      ],
      "text/plain": [
       "       ID  Customer                 Date Added  Outcome         Phone  \\\n",
       "0  106695       NaN  2020-05-04T08:22:31+03:00  SUCCESS  2.547640e+11   \n",
       "1  106693       NaN  2020-05-04T08:21:03+03:00  SUCCESS  2.547640e+11   \n",
       "2  106691       NaN  2020-05-04T07:38:17+03:00  SUCCESS  2.547644e+11   \n",
       "3  106689       NaN  2020-05-04T07:37:30+03:00  SUCCESS  2.547644e+11   \n",
       "4  106687       NaN  2020-05-04T07:15:27+03:00  SUCCESS  2.547645e+11   \n",
       "\n",
       "                    Response         Task  \n",
       "0  Order placed successfully  SubmitOrder  \n",
       "1         Phone number found         Dial  \n",
       "2  Order placed successfully  SubmitOrder  \n",
       "3         Phone number found         Dial  \n",
       "4  Order placed successfully  SubmitOrder  "
      ]
     },
     "execution_count": 374,
     "metadata": {},
     "output_type": "execute_result"
    }
   ],
   "source": [
    "events=pd.read_csv('events.csv')\n",
    "\n",
    "print(events.isnull().sum())\n",
    "print('\\n')\n",
    "print(events.shape)\n",
    "print('\\n')\n",
    "events.head()"
   ]
  },
  {
   "cell_type": "markdown",
   "metadata": {},
   "source": [
    "##### The entire customer column is empty, we will drop it. Also there are events for which timestamp was not recorded, we will drop those events since we want to analyze data for a specific period (27th April to 4th May)"
   ]
  },
  {
   "cell_type": "markdown",
   "metadata": {},
   "source": [
    "##### Drop \"Customer\" Column "
   ]
  },
  {
   "cell_type": "code",
   "execution_count": 375,
   "metadata": {},
   "outputs": [],
   "source": [
    "events.drop(['Customer'], axis=1,inplace=True)"
   ]
  },
  {
   "cell_type": "markdown",
   "metadata": {},
   "source": [
    "##### Drop the 3,970 events with no timestamp (Date Added)"
   ]
  },
  {
   "cell_type": "code",
   "execution_count": 376,
   "metadata": {},
   "outputs": [],
   "source": [
    "events=events[events['Date Added'].notna()]"
   ]
  },
  {
   "cell_type": "markdown",
   "metadata": {},
   "source": [
    "##### Separate Date & Time from 'Date Added' for the remaining events"
   ]
  },
  {
   "cell_type": "code",
   "execution_count": 377,
   "metadata": {},
   "outputs": [],
   "source": [
    "events['Date']=events['Date Added'].str[:10]\n",
    "events['Time']=events['Date Added'].str[11:19]"
   ]
  },
  {
   "cell_type": "markdown",
   "metadata": {},
   "source": [
    "##### Convert 'Date' to datetime to be able to calculate time delta"
   ]
  },
  {
   "cell_type": "code",
   "execution_count": 378,
   "metadata": {},
   "outputs": [],
   "source": [
    "events['Date']=pd.to_datetime(events['Date'])"
   ]
  },
  {
   "cell_type": "markdown",
   "metadata": {},
   "source": [
    "##### Filter Data between 27th April & 4th May 2020; the period of interest"
   ]
  },
  {
   "cell_type": "code",
   "execution_count": 379,
   "metadata": {},
   "outputs": [],
   "source": [
    "events=events[(events['Date']>'2020-04-26')&(events['Date']<='2020-05-04')]"
   ]
  },
  {
   "cell_type": "markdown",
   "metadata": {},
   "source": [
    "##### Create 'Hour' column from 'Time'"
   ]
  },
  {
   "cell_type": "code",
   "execution_count": 380,
   "metadata": {},
   "outputs": [],
   "source": [
    "events['Hour']=events['Time'].str[:2]+'00hrs'"
   ]
  },
  {
   "cell_type": "markdown",
   "metadata": {},
   "source": [
    "##### View the first 5 events after preprocessing data"
   ]
  },
  {
   "cell_type": "code",
   "execution_count": 381,
   "metadata": {},
   "outputs": [
    {
     "data": {
      "text/html": [
       "<div>\n",
       "<style scoped>\n",
       "    .dataframe tbody tr th:only-of-type {\n",
       "        vertical-align: middle;\n",
       "    }\n",
       "\n",
       "    .dataframe tbody tr th {\n",
       "        vertical-align: top;\n",
       "    }\n",
       "\n",
       "    .dataframe thead th {\n",
       "        text-align: right;\n",
       "    }\n",
       "</style>\n",
       "<table border=\"1\" class=\"dataframe\">\n",
       "  <thead>\n",
       "    <tr style=\"text-align: right;\">\n",
       "      <th></th>\n",
       "      <th>ID</th>\n",
       "      <th>Date Added</th>\n",
       "      <th>Outcome</th>\n",
       "      <th>Phone</th>\n",
       "      <th>Response</th>\n",
       "      <th>Task</th>\n",
       "      <th>Date</th>\n",
       "      <th>Time</th>\n",
       "      <th>Hour</th>\n",
       "    </tr>\n",
       "  </thead>\n",
       "  <tbody>\n",
       "    <tr>\n",
       "      <td>0</td>\n",
       "      <td>106695</td>\n",
       "      <td>2020-05-04T08:22:31+03:00</td>\n",
       "      <td>SUCCESS</td>\n",
       "      <td>2.547640e+11</td>\n",
       "      <td>Order placed successfully</td>\n",
       "      <td>SubmitOrder</td>\n",
       "      <td>2020-05-04</td>\n",
       "      <td>08:22:31</td>\n",
       "      <td>0800hrs</td>\n",
       "    </tr>\n",
       "    <tr>\n",
       "      <td>1</td>\n",
       "      <td>106693</td>\n",
       "      <td>2020-05-04T08:21:03+03:00</td>\n",
       "      <td>SUCCESS</td>\n",
       "      <td>2.547640e+11</td>\n",
       "      <td>Phone number found</td>\n",
       "      <td>Dial</td>\n",
       "      <td>2020-05-04</td>\n",
       "      <td>08:21:03</td>\n",
       "      <td>0800hrs</td>\n",
       "    </tr>\n",
       "    <tr>\n",
       "      <td>2</td>\n",
       "      <td>106691</td>\n",
       "      <td>2020-05-04T07:38:17+03:00</td>\n",
       "      <td>SUCCESS</td>\n",
       "      <td>2.547644e+11</td>\n",
       "      <td>Order placed successfully</td>\n",
       "      <td>SubmitOrder</td>\n",
       "      <td>2020-05-04</td>\n",
       "      <td>07:38:17</td>\n",
       "      <td>0700hrs</td>\n",
       "    </tr>\n",
       "    <tr>\n",
       "      <td>3</td>\n",
       "      <td>106689</td>\n",
       "      <td>2020-05-04T07:37:30+03:00</td>\n",
       "      <td>SUCCESS</td>\n",
       "      <td>2.547644e+11</td>\n",
       "      <td>Phone number found</td>\n",
       "      <td>Dial</td>\n",
       "      <td>2020-05-04</td>\n",
       "      <td>07:37:30</td>\n",
       "      <td>0700hrs</td>\n",
       "    </tr>\n",
       "    <tr>\n",
       "      <td>4</td>\n",
       "      <td>106687</td>\n",
       "      <td>2020-05-04T07:15:27+03:00</td>\n",
       "      <td>SUCCESS</td>\n",
       "      <td>2.547645e+11</td>\n",
       "      <td>Order placed successfully</td>\n",
       "      <td>SubmitOrder</td>\n",
       "      <td>2020-05-04</td>\n",
       "      <td>07:15:27</td>\n",
       "      <td>0700hrs</td>\n",
       "    </tr>\n",
       "  </tbody>\n",
       "</table>\n",
       "</div>"
      ],
      "text/plain": [
       "       ID                 Date Added  Outcome         Phone  \\\n",
       "0  106695  2020-05-04T08:22:31+03:00  SUCCESS  2.547640e+11   \n",
       "1  106693  2020-05-04T08:21:03+03:00  SUCCESS  2.547640e+11   \n",
       "2  106691  2020-05-04T07:38:17+03:00  SUCCESS  2.547644e+11   \n",
       "3  106689  2020-05-04T07:37:30+03:00  SUCCESS  2.547644e+11   \n",
       "4  106687  2020-05-04T07:15:27+03:00  SUCCESS  2.547645e+11   \n",
       "\n",
       "                    Response         Task       Date      Time     Hour  \n",
       "0  Order placed successfully  SubmitOrder 2020-05-04  08:22:31  0800hrs  \n",
       "1         Phone number found         Dial 2020-05-04  08:21:03  0800hrs  \n",
       "2  Order placed successfully  SubmitOrder 2020-05-04  07:38:17  0700hrs  \n",
       "3         Phone number found         Dial 2020-05-04  07:37:30  0700hrs  \n",
       "4  Order placed successfully  SubmitOrder 2020-05-04  07:15:27  0700hrs  "
      ]
     },
     "execution_count": 381,
     "metadata": {},
     "output_type": "execute_result"
    }
   ],
   "source": [
    "events.head()"
   ]
  },
  {
   "cell_type": "markdown",
   "metadata": {},
   "source": [
    "## 1. No. of Events as they took place Hourly -  between Midday to 9 pm"
   ]
  },
  {
   "cell_type": "markdown",
   "metadata": {},
   "source": [
    "##### filter events between mid day and 9pm"
   ]
  },
  {
   "cell_type": "code",
   "execution_count": 382,
   "metadata": {},
   "outputs": [],
   "source": [
    "midday_to_9pm=events[(events['Hour']>='12')&(events['Hour']<'21')]"
   ]
  },
  {
   "cell_type": "markdown",
   "metadata": {},
   "source": [
    "##### plot events by hour between midday and 2100hrs"
   ]
  },
  {
   "cell_type": "code",
   "execution_count": 383,
   "metadata": {},
   "outputs": [
    {
     "data": {
      "image/png": "[encoded data removed]",
      "text/plain": [
       "<Figure size 640x480 with 1 Axes>"
      ]
     },
     "metadata": {},
     "output_type": "display_data"
    }
   ],
   "source": [
    "plt.figure(num=None, figsize=(8, 6), dpi=80, facecolor='w', edgecolor='k')\n",
    "midday_to_9pm['Hour'].value_counts().sort_index().plot.barh(color='purple')\n",
    "\n",
    "plt.title('Number of USSD Dials Between midday & 2100hrs by hour ')\n",
    "plt.xlabel('Number of Events')\n",
    "plt.ylabel('Hour')\n",
    "# plt.figtext(.8, .8, \"# events\")\n",
    "plt.show()"
   ]
  },
  {
   "cell_type": "markdown",
   "metadata": {},
   "source": [
    "##### most ussd dials during the week occured between 1500hrs and 1700hrs, peak period being 1600hrs\n",
    "##### ***(Kindly note some dials did not record timestamp, hence they are not reflected here)"
   ]
  },
  {
   "cell_type": "markdown",
   "metadata": {},
   "source": [
    "## 2. Proportion of registered USSD request users for the period\n",
    "\n",
    "Registered ussd users who dialed and those who didnt"
   ]
  },
  {
   "cell_type": "markdown",
   "metadata": {},
   "source": [
    "##### Drop Events (170) with no phone numbers as they are not relevant"
   ]
  },
  {
   "cell_type": "code",
   "execution_count": 384,
   "metadata": {},
   "outputs": [],
   "source": [
    "events=events[events['Phone'].notna()]"
   ]
  },
  {
   "cell_type": "markdown",
   "metadata": {},
   "source": [
    "##### USSD Requests are ussd dials, select where task is 'Dial'"
   ]
  },
  {
   "cell_type": "code",
   "execution_count": 385,
   "metadata": {},
   "outputs": [],
   "source": [
    "ussd_requests=events[events['Task']=='Dial']"
   ]
  },
  {
   "cell_type": "markdown",
   "metadata": {},
   "source": [
    "##### Clean 'Phone' column"
   ]
  },
  {
   "cell_type": "code",
   "execution_count": 386,
   "metadata": {},
   "outputs": [],
   "source": [
    "ussd_requests['Phone']=ussd_requests['Phone'].astype(str).str[0:12]"
   ]
  },
  {
   "cell_type": "markdown",
   "metadata": {},
   "source": [
    "##### Get all registered users from customer's API\n",
    "http://197.254.84.134:8082/api/customer/list"
   ]
  },
  {
   "cell_type": "markdown",
   "metadata": {},
   "source": [
    "##### Read in api content and retrieve phone numbers"
   ]
  },
  {
   "cell_type": "code",
   "execution_count": 387,
   "metadata": {},
   "outputs": [
    {
     "name": "stdout",
     "output_type": "stream",
     "text": [
      "588\n"
     ]
    },
    {
     "data": {
      "text/html": [
       "<div>\n",
       "<style scoped>\n",
       "    .dataframe tbody tr th:only-of-type {\n",
       "        vertical-align: middle;\n",
       "    }\n",
       "\n",
       "    .dataframe tbody tr th {\n",
       "        vertical-align: top;\n",
       "    }\n",
       "\n",
       "    .dataframe thead th {\n",
       "        text-align: right;\n",
       "    }\n",
       "</style>\n",
       "<table border=\"1\" class=\"dataframe\">\n",
       "  <thead>\n",
       "    <tr style=\"text-align: right;\">\n",
       "      <th></th>\n",
       "      <th>Number</th>\n",
       "    </tr>\n",
       "  </thead>\n",
       "  <tbody>\n",
       "    <tr>\n",
       "      <td>0</td>\n",
       "      <td>254764719863</td>\n",
       "    </tr>\n",
       "    <tr>\n",
       "      <td>1</td>\n",
       "      <td>254763952674</td>\n",
       "    </tr>\n",
       "    <tr>\n",
       "      <td>2</td>\n",
       "      <td>254764019493</td>\n",
       "    </tr>\n",
       "    <tr>\n",
       "      <td>3</td>\n",
       "      <td>254764666544</td>\n",
       "    </tr>\n",
       "    <tr>\n",
       "      <td>4</td>\n",
       "      <td>254724589504</td>\n",
       "    </tr>\n",
       "  </tbody>\n",
       "</table>\n",
       "</div>"
      ],
      "text/plain": [
       "         Number\n",
       "0  254764719863\n",
       "1  254763952674\n",
       "2  254764019493\n",
       "3  254764666544\n",
       "4  254724589504"
      ]
     },
     "execution_count": 387,
     "metadata": {},
     "output_type": "execute_result"
    }
   ],
   "source": [
    "customers=pd.read_fwf('customers.txt',names=['Number'])\n",
    "phone_numbers=[]\n",
    "for string in customers['Number']:\n",
    "    if '<PhoneNumber>' in string:       \n",
    "        if len(string)==39:            \n",
    "            number=string[13:25]\n",
    "            phone_numbers.append(number)\n",
    "            \n",
    "print(len(phone_numbers))\n",
    "phone_numbers=pd.DataFrame(phone_numbers,columns =['Number'])\n",
    "phone_numbers.head()"
   ]
  },
  {
   "cell_type": "markdown",
   "metadata": {},
   "source": [
    "##### Check number of registered users who dialed and those who didnt dial ussd during the period "
   ]
  },
  {
   "cell_type": "code",
   "execution_count": 388,
   "metadata": {},
   "outputs": [
    {
     "data": {
      "text/plain": [
       "Dialed        334\n",
       "Didnt Dial    254\n",
       "dtype: int64"
      ]
     },
     "execution_count": 388,
     "metadata": {},
     "output_type": "execute_result"
    }
   ],
   "source": [
    "registered=phone_numbers['Number'].to_list()\n",
    "dialed=ussd_requests['Phone'].drop_duplicates().to_list()\n",
    "\n",
    "\n",
    "def registered_dialed_or_didnt(list1,list2):\n",
    "    RegisteredDialedOrNot=[] \n",
    "    for number in list1:\n",
    "        if number in list2:\n",
    "            RegisteredDialedOrNot.append('Dialed')\n",
    "        else:\n",
    "            RegisteredDialedOrNot.append('Didnt Dial')\n",
    "    return RegisteredDialedOrNot\n",
    "\n",
    "\n",
    "RegisteredDialedOrNot=registered_dialed_or_didnt(registered,dialed)\n",
    "RegisteredDialedOrNot=pd.Series(RegisteredDialedOrNot)\n",
    "RegisteredDialedOrNot.value_counts()"
   ]
  },
  {
   "cell_type": "markdown",
   "metadata": {},
   "source": [
    "##### Plot dialed or didnt"
   ]
  },
  {
   "cell_type": "code",
   "execution_count": 389,
   "metadata": {},
   "outputs": [
    {
     "data": {
      "image/png": "[encoded data removed]",
      "text/plain": [
       "<Figure size 640x480 with 1 Axes>"
      ]
     },
     "metadata": {},
     "output_type": "display_data"
    }
   ],
   "source": [
    "plt.figure(num=None, figsize=(8, 6), dpi=80, facecolor='w', edgecolor='k')\n",
    "RegisteredDialedOrNot.value_counts().sort_index().plot.bar(color=['#07f89d','#d02f74'])\n",
    "\n",
    "plt.title('USSD Registered users who Dialed or Didnt Dial During the Period')\n",
    "plt.ylabel('Number of Registered Users')\n",
    "plt.xlabel('Dialed or Not')\n",
    "plt.ylim(0,500)\n",
    "# plt.figtext(.8, .8, \"# events\")\n",
    "plt.show()"
   ]
  },
  {
   "cell_type": "markdown",
   "metadata": {},
   "source": [
    "## 3. Overall USSD dial failures for the period (Only registered users)"
   ]
  },
  {
   "cell_type": "markdown",
   "metadata": {},
   "source": [
    "##### Create a new column for RegisteredOrNot for each ussd dial"
   ]
  },
  {
   "cell_type": "code",
   "execution_count": 390,
   "metadata": {
    "scrolled": true
   },
   "outputs": [
    {
     "data": {
      "text/plain": [
       "Registered        3495\n",
       "Not Registered      62\n",
       "Name: RegisteredOrNot, dtype: int64"
      ]
     },
     "execution_count": 390,
     "metadata": {},
     "output_type": "execute_result"
    }
   ],
   "source": [
    "DailedRegisteredOrNot=[]\n",
    "for number in ussd_requests['Phone']:\n",
    "    if number in registered:\n",
    "        DailedRegisteredOrNot.append('Registered')\n",
    "    else:\n",
    "        DailedRegisteredOrNot.append('Not Registered')\n",
    "ussd_requests['RegisteredOrNot']=DailedRegisteredOrNot\n",
    "ussd_requests['RegisteredOrNot'].value_counts()"
   ]
  },
  {
   "cell_type": "code",
   "execution_count": 391,
   "metadata": {},
   "outputs": [
    {
     "data": {
      "image/png": "[encoded data removed]",
      "text/plain": [
       "<Figure size 640x400 with 1 Axes>"
      ]
     },
     "metadata": {},
     "output_type": "display_data"
    }
   ],
   "source": [
    "plt.figure(num=None, figsize=(8, 5), dpi=80, facecolor='w', edgecolor='k')\n",
    "\n",
    "\n",
    "plt.pie(ussd_requests['RegisteredOrNot'].value_counts(),autopct='%1.2f',labels=['Registered','Not Registered'],\\\n",
    "        colors=['#b538c7','#1348ac'],\\\n",
    "        pctdistance=1.7,shadow=True,radius=0.9,startangle=15,explode=[0.5,.001],wedgeprops = {'linewidth': 3})\n",
    "plt.title('USSD Dialers, Registered/Not Registered')\n",
    "plt.show()\n"
   ]
  },
  {
   "cell_type": "markdown",
   "metadata": {},
   "source": [
    "##### There were 3,495 (98.26%) ussd dials by registered users and 62 (1.74%) by non registered users"
   ]
  },
  {
   "cell_type": "markdown",
   "metadata": {},
   "source": [
    "##### keep ussd dials for only registered users"
   ]
  },
  {
   "cell_type": "code",
   "execution_count": 392,
   "metadata": {},
   "outputs": [
    {
     "data": {
      "text/html": [
       "<div>\n",
       "<style scoped>\n",
       "    .dataframe tbody tr th:only-of-type {\n",
       "        vertical-align: middle;\n",
       "    }\n",
       "\n",
       "    .dataframe tbody tr th {\n",
       "        vertical-align: top;\n",
       "    }\n",
       "\n",
       "    .dataframe thead th {\n",
       "        text-align: right;\n",
       "    }\n",
       "</style>\n",
       "<table border=\"1\" class=\"dataframe\">\n",
       "  <thead>\n",
       "    <tr style=\"text-align: right;\">\n",
       "      <th></th>\n",
       "      <th>ID</th>\n",
       "      <th>Date Added</th>\n",
       "      <th>Outcome</th>\n",
       "      <th>Phone</th>\n",
       "      <th>Response</th>\n",
       "      <th>Task</th>\n",
       "      <th>Date</th>\n",
       "      <th>Time</th>\n",
       "      <th>Hour</th>\n",
       "      <th>RegisteredOrNot</th>\n",
       "    </tr>\n",
       "  </thead>\n",
       "  <tbody>\n",
       "    <tr>\n",
       "      <td>1</td>\n",
       "      <td>106693</td>\n",
       "      <td>2020-05-04T08:21:03+03:00</td>\n",
       "      <td>SUCCESS</td>\n",
       "      <td>254763995725</td>\n",
       "      <td>Phone number found</td>\n",
       "      <td>Dial</td>\n",
       "      <td>2020-05-04</td>\n",
       "      <td>08:21:03</td>\n",
       "      <td>0800hrs</td>\n",
       "      <td>Registered</td>\n",
       "    </tr>\n",
       "    <tr>\n",
       "      <td>3</td>\n",
       "      <td>106689</td>\n",
       "      <td>2020-05-04T07:37:30+03:00</td>\n",
       "      <td>SUCCESS</td>\n",
       "      <td>254764422110</td>\n",
       "      <td>Phone number found</td>\n",
       "      <td>Dial</td>\n",
       "      <td>2020-05-04</td>\n",
       "      <td>07:37:30</td>\n",
       "      <td>0700hrs</td>\n",
       "      <td>Registered</td>\n",
       "    </tr>\n",
       "    <tr>\n",
       "      <td>5</td>\n",
       "      <td>106685</td>\n",
       "      <td>2020-05-04T07:14:58+03:00</td>\n",
       "      <td>SUCCESS</td>\n",
       "      <td>254764472060</td>\n",
       "      <td>Phone number found</td>\n",
       "      <td>Dial</td>\n",
       "      <td>2020-05-04</td>\n",
       "      <td>07:14:58</td>\n",
       "      <td>0700hrs</td>\n",
       "      <td>Registered</td>\n",
       "    </tr>\n",
       "    <tr>\n",
       "      <td>6</td>\n",
       "      <td>106683</td>\n",
       "      <td>2020-05-04T06:53:19+03:00</td>\n",
       "      <td>SUCCESS</td>\n",
       "      <td>254764544573</td>\n",
       "      <td>Phone number found</td>\n",
       "      <td>Dial</td>\n",
       "      <td>2020-05-04</td>\n",
       "      <td>06:53:19</td>\n",
       "      <td>0600hrs</td>\n",
       "      <td>Registered</td>\n",
       "    </tr>\n",
       "    <tr>\n",
       "      <td>9</td>\n",
       "      <td>106677</td>\n",
       "      <td>2020-05-04T04:42:31+03:00</td>\n",
       "      <td>SUCCESS</td>\n",
       "      <td>254763719851</td>\n",
       "      <td>Phone number found</td>\n",
       "      <td>Dial</td>\n",
       "      <td>2020-05-04</td>\n",
       "      <td>04:42:31</td>\n",
       "      <td>0400hrs</td>\n",
       "      <td>Registered</td>\n",
       "    </tr>\n",
       "  </tbody>\n",
       "</table>\n",
       "</div>"
      ],
      "text/plain": [
       "       ID                 Date Added  Outcome         Phone  \\\n",
       "1  106693  2020-05-04T08:21:03+03:00  SUCCESS  254763995725   \n",
       "3  106689  2020-05-04T07:37:30+03:00  SUCCESS  254764422110   \n",
       "5  106685  2020-05-04T07:14:58+03:00  SUCCESS  254764472060   \n",
       "6  106683  2020-05-04T06:53:19+03:00  SUCCESS  254764544573   \n",
       "9  106677  2020-05-04T04:42:31+03:00  SUCCESS  254763719851   \n",
       "\n",
       "             Response  Task       Date      Time     Hour RegisteredOrNot  \n",
       "1  Phone number found  Dial 2020-05-04  08:21:03  0800hrs      Registered  \n",
       "3  Phone number found  Dial 2020-05-04  07:37:30  0700hrs      Registered  \n",
       "5  Phone number found  Dial 2020-05-04  07:14:58  0700hrs      Registered  \n",
       "6  Phone number found  Dial 2020-05-04  06:53:19  0600hrs      Registered  \n",
       "9  Phone number found  Dial 2020-05-04  04:42:31  0400hrs      Registered  "
      ]
     },
     "execution_count": 392,
     "metadata": {},
     "output_type": "execute_result"
    }
   ],
   "source": [
    "ussd_requests=ussd_requests[ussd_requests['RegisteredOrNot']=='Registered']\n",
    "ussd_requests.head()"
   ]
  },
  {
   "cell_type": "markdown",
   "metadata": {},
   "source": [
    "##### plot USSD outcomes for the remaining Dials"
   ]
  },
  {
   "cell_type": "code",
   "execution_count": 401,
   "metadata": {},
   "outputs": [
    {
     "data": {
      "image/png": "[encoded data removed]",
      "text/plain": [
       "<Figure size 640x400 with 1 Axes>"
      ]
     },
     "metadata": {},
     "output_type": "display_data"
    }
   ],
   "source": [
    "plt.figure(num=None, figsize=(8, 5), dpi=80, facecolor='w', edgecolor='k')\n",
    "\n",
    "\n",
    "plt.pie(ussd_requests['Outcome'].value_counts(),autopct='%1.2f',labels=['Success','Fail'],colors=['#64ae11','r'],\\\n",
    "        pctdistance=1.3,shadow=True,radius=0.9,startangle=50,explode=[0.5,0.05],wedgeprops = {'linewidth': 3})\n",
    "plt.title('Overall USSD Dials Failure rate in % for the period (for registered users)')\n",
    "plt.show()"
   ]
  },
  {
   "cell_type": "markdown",
   "metadata": {},
   "source": [
    "##### 99.28% of ussd dials were successful"
   ]
  },
  {
   "cell_type": "markdown",
   "metadata": {},
   "source": [
    "## 4. USSD failure rates by day (registered users)"
   ]
  },
  {
   "cell_type": "code",
   "execution_count": null,
   "metadata": {},
   "outputs": [],
   "source": []
  }
 ],
 "metadata": {
  "kernelspec": {
   "display_name": "Python 3",
   "language": "python",
   "name": "python3"
  },
  "language_info": {
   "codemirror_mode": {
    "name": "ipython",
    "version": 3
   },
   "file_extension": ".py",
   "mimetype": "text/x-python",
   "name": "python",
   "nbconvert_exporter": "python",
   "pygments_lexer": "ipython3",
   "version": "3.7.4"
  }
 },
 "nbformat": 4,
 "nbformat_minor": 2
}
