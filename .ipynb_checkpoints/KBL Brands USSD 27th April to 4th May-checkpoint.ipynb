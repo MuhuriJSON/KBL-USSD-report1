{
 "cells": [
  {
   "cell_type": "markdown",
   "metadata": {},
   "source": [
    "## KBL Brands USSD Ordering Events Analysis for 27th April to 4th May 2020\n",
    "\n",
    "This notebook is an analysis of the events of the KBL ussd ordering system for the period above as availed by the monitoring tool.\n",
    " "
   ]
  },
  {
   "cell_type": "markdown",
   "metadata": {},
   "source": [
    "Data Source: http://209.97.136.146:8080/question#eyJkYXRhc2V0X3F1ZXJ5Ijp7ImRhdGFiYXNlIjoyLCJxdWVyeSI6eyJzb3VyY2UtdGFibGUiOjE0LCJvcmRlci1ieSI6W1siZGVzYyIsWyJmaWVsZC1pZCIsOTVdXV19LCJ0eXBlIjoicXVlcnkifSwiZGlzcGxheSI6InRhYmxlIiwidmlzdWFsaXphdGlvbl9zZXR0aW5ncyI6eyJ0YWJsZS5waXZvdF9jb2x1bW4iOiJjdXN0b21lciIsInRhYmxlLmNlbGxfY29sdW1uIjoidGFzayJ9LCJvcmlnaW5hbF9jYXJkX2lkIjo0fQ=="
   ]
  },
  {
   "cell_type": "markdown",
   "metadata": {},
   "source": [
    "### Read in the data"
   ]
  },
  {
   "cell_type": "code",
   "execution_count": 12,
   "metadata": {},
   "outputs": [
    {
     "data": {
      "text/html": [
       "<div>\n",
       "<style scoped>\n",
       "    .dataframe tbody tr th:only-of-type {\n",
       "        vertical-align: middle;\n",
       "    }\n",
       "\n",
       "    .dataframe tbody tr th {\n",
       "        vertical-align: top;\n",
       "    }\n",
       "\n",
       "    .dataframe thead th {\n",
       "        text-align: right;\n",
       "    }\n",
       "</style>\n",
       "<table border=\"1\" class=\"dataframe\">\n",
       "  <thead>\n",
       "    <tr style=\"text-align: right;\">\n",
       "      <th></th>\n",
       "      <th>ID</th>\n",
       "      <th>Customer</th>\n",
       "      <th>Date Added</th>\n",
       "      <th>Outcome</th>\n",
       "      <th>Phone</th>\n",
       "      <th>Response</th>\n",
       "      <th>Task</th>\n",
       "    </tr>\n",
       "  </thead>\n",
       "  <tbody>\n",
       "    <tr>\n",
       "      <td>0</td>\n",
       "      <td>106695</td>\n",
       "      <td>NaN</td>\n",
       "      <td>2020-05-04T08:22:31+03:00</td>\n",
       "      <td>SUCCESS</td>\n",
       "      <td>2.547640e+11</td>\n",
       "      <td>Order placed successfully</td>\n",
       "      <td>SubmitOrder</td>\n",
       "    </tr>\n",
       "    <tr>\n",
       "      <td>1</td>\n",
       "      <td>106693</td>\n",
       "      <td>NaN</td>\n",
       "      <td>2020-05-04T08:21:03+03:00</td>\n",
       "      <td>SUCCESS</td>\n",
       "      <td>2.547640e+11</td>\n",
       "      <td>Phone number found</td>\n",
       "      <td>Dial</td>\n",
       "    </tr>\n",
       "    <tr>\n",
       "      <td>2</td>\n",
       "      <td>106691</td>\n",
       "      <td>NaN</td>\n",
       "      <td>2020-05-04T07:38:17+03:00</td>\n",
       "      <td>SUCCESS</td>\n",
       "      <td>2.547644e+11</td>\n",
       "      <td>Order placed successfully</td>\n",
       "      <td>SubmitOrder</td>\n",
       "    </tr>\n",
       "    <tr>\n",
       "      <td>3</td>\n",
       "      <td>106689</td>\n",
       "      <td>NaN</td>\n",
       "      <td>2020-05-04T07:37:30+03:00</td>\n",
       "      <td>SUCCESS</td>\n",
       "      <td>2.547644e+11</td>\n",
       "      <td>Phone number found</td>\n",
       "      <td>Dial</td>\n",
       "    </tr>\n",
       "    <tr>\n",
       "      <td>4</td>\n",
       "      <td>106687</td>\n",
       "      <td>NaN</td>\n",
       "      <td>2020-05-04T07:15:27+03:00</td>\n",
       "      <td>SUCCESS</td>\n",
       "      <td>2.547645e+11</td>\n",
       "      <td>Order placed successfully</td>\n",
       "      <td>SubmitOrder</td>\n",
       "    </tr>\n",
       "  </tbody>\n",
       "</table>\n",
       "</div>"
      ],
      "text/plain": [
       "       ID  Customer                 Date Added  Outcome         Phone  \\\n",
       "0  106695       NaN  2020-05-04T08:22:31+03:00  SUCCESS  2.547640e+11   \n",
       "1  106693       NaN  2020-05-04T08:21:03+03:00  SUCCESS  2.547640e+11   \n",
       "2  106691       NaN  2020-05-04T07:38:17+03:00  SUCCESS  2.547644e+11   \n",
       "3  106689       NaN  2020-05-04T07:37:30+03:00  SUCCESS  2.547644e+11   \n",
       "4  106687       NaN  2020-05-04T07:15:27+03:00  SUCCESS  2.547645e+11   \n",
       "\n",
       "                    Response         Task  \n",
       "0  Order placed successfully  SubmitOrder  \n",
       "1         Phone number found         Dial  \n",
       "2  Order placed successfully  SubmitOrder  \n",
       "3         Phone number found         Dial  \n",
       "4  Order placed successfully  SubmitOrder  "
      ]
     },
     "execution_count": 12,
     "metadata": {},
     "output_type": "execute_result"
    }
   ],
   "source": [
    "import pandas as pd\n",
    "import matplotlib.pyplot as plt\n",
    "plt.style.use('ggplot')\n",
    "import seaborn as sns\n",
    "\n",
    "%matplotlib inline\n",
    "\n",
    "data=pd.read_csv('events.csv')\n",
    "data.head()"
   ]
  },
  {
   "cell_type": "markdown",
   "metadata": {},
   "source": [
    "### Explore the data"
   ]
  },
  {
   "cell_type": "code",
   "execution_count": 13,
   "metadata": {},
   "outputs": [
    {
     "name": "stdout",
     "output_type": "stream",
     "text": [
      "ID              int64\n",
      "Customer      float64\n",
      "Date Added     object\n",
      "Outcome        object\n",
      "Phone         float64\n",
      "Response       object\n",
      "Task           object\n",
      "dtype: object\n",
      "\n",
      "\n",
      "(53344, 7)\n",
      "\n",
      "\n",
      "ID                0\n",
      "Customer      53344\n",
      "Date Added     3970\n",
      "Outcome           0\n",
      "Phone           170\n",
      "Response          0\n",
      "Task              0\n",
      "dtype: int64\n"
     ]
    }
   ],
   "source": [
    "print(data.dtypes)\n",
    "print('\\n')\n",
    "print(data.shape)\n",
    "print('\\n')\n",
    "print(data.isnull().sum())"
   ]
  },
  {
   "cell_type": "markdown",
   "metadata": {},
   "source": [
    "There are 53,344 events in total"
   ]
  },
  {
   "cell_type": "markdown",
   "metadata": {},
   "source": [
    "### Drop Customer column\n",
    "\n",
    "The entire Customer column is empty, this could be because when an event is being initiated we do not yet know the customer code, they might not even be in the SAP. We drop it"
   ]
  },
  {
   "cell_type": "code",
   "execution_count": 14,
   "metadata": {},
   "outputs": [],
   "source": [
    "data.drop('Customer', axis=1,inplace=True)"
   ]
  },
  {
   "cell_type": "markdown",
   "metadata": {},
   "source": [
    "There are also 3,970 events with no 'Date Added' Record and 170 events with no 'Phone' record. Below we investigate these\n",
    "\n",
    "### Explore data with no 'Date Added' record"
   ]
  },
  {
   "cell_type": "code",
   "execution_count": 15,
   "metadata": {},
   "outputs": [
    {
     "data": {
      "text/html": [
       "<div>\n",
       "<style scoped>\n",
       "    .dataframe tbody tr th:only-of-type {\n",
       "        vertical-align: middle;\n",
       "    }\n",
       "\n",
       "    .dataframe tbody tr th {\n",
       "        vertical-align: top;\n",
       "    }\n",
       "\n",
       "    .dataframe thead th {\n",
       "        text-align: right;\n",
       "    }\n",
       "</style>\n",
       "<table border=\"1\" class=\"dataframe\">\n",
       "  <thead>\n",
       "    <tr style=\"text-align: right;\">\n",
       "      <th></th>\n",
       "      <th>ID</th>\n",
       "      <th>Date Added</th>\n",
       "      <th>Outcome</th>\n",
       "      <th>Phone</th>\n",
       "      <th>Response</th>\n",
       "      <th>Task</th>\n",
       "    </tr>\n",
       "  </thead>\n",
       "  <tbody>\n",
       "    <tr>\n",
       "      <td>49374</td>\n",
       "      <td>7945</td>\n",
       "      <td>NaN</td>\n",
       "      <td>SUCCESS</td>\n",
       "      <td>2.547640e+11</td>\n",
       "      <td>Order placed successfully</td>\n",
       "      <td>SubmitOrder</td>\n",
       "    </tr>\n",
       "    <tr>\n",
       "      <td>49375</td>\n",
       "      <td>7943</td>\n",
       "      <td>NaN</td>\n",
       "      <td>SUCCESS</td>\n",
       "      <td>2.547657e+11</td>\n",
       "      <td>Phone number found</td>\n",
       "      <td>Dial</td>\n",
       "    </tr>\n",
       "    <tr>\n",
       "      <td>49376</td>\n",
       "      <td>7941</td>\n",
       "      <td>NaN</td>\n",
       "      <td>SUCCESS</td>\n",
       "      <td>2.547640e+11</td>\n",
       "      <td>Order placed successfully</td>\n",
       "      <td>SubmitOrder</td>\n",
       "    </tr>\n",
       "    <tr>\n",
       "      <td>49377</td>\n",
       "      <td>7939</td>\n",
       "      <td>NaN</td>\n",
       "      <td>SUCCESS</td>\n",
       "      <td>2.547640e+11</td>\n",
       "      <td>Phone number found</td>\n",
       "      <td>Dial</td>\n",
       "    </tr>\n",
       "    <tr>\n",
       "      <td>49378</td>\n",
       "      <td>7937</td>\n",
       "      <td>NaN</td>\n",
       "      <td>SUCCESS</td>\n",
       "      <td>2.547640e+11</td>\n",
       "      <td>Phone number found</td>\n",
       "      <td>Dial</td>\n",
       "    </tr>\n",
       "  </tbody>\n",
       "</table>\n",
       "</div>"
      ],
      "text/plain": [
       "         ID Date Added  Outcome         Phone                   Response  \\\n",
       "49374  7945        NaN  SUCCESS  2.547640e+11  Order placed successfully   \n",
       "49375  7943        NaN  SUCCESS  2.547657e+11         Phone number found   \n",
       "49376  7941        NaN  SUCCESS  2.547640e+11  Order placed successfully   \n",
       "49377  7939        NaN  SUCCESS  2.547640e+11         Phone number found   \n",
       "49378  7937        NaN  SUCCESS  2.547640e+11         Phone number found   \n",
       "\n",
       "              Task  \n",
       "49374  SubmitOrder  \n",
       "49375         Dial  \n",
       "49376  SubmitOrder  \n",
       "49377         Dial  \n",
       "49378         Dial  "
      ]
     },
     "execution_count": 15,
     "metadata": {},
     "output_type": "execute_result"
    }
   ],
   "source": [
    "#filter out events where there is not record for Date Added\n",
    "\n",
    "no_date=data[data['Date Added'].isnull()]\n",
    "no_date.head()"
   ]
  },
  {
   "cell_type": "markdown",
   "metadata": {},
   "source": [
    "### proportion of Tasks with no Date Added"
   ]
  },
  {
   "cell_type": "code",
   "execution_count": 16,
   "metadata": {},
   "outputs": [
    {
     "data": {
      "text/plain": [
       "<matplotlib.axes._subplots.AxesSubplot at 0x18c83a4f6c8>"
      ]
     },
     "execution_count": 16,
     "metadata": {},
     "output_type": "execute_result"
    },
    {
     "data": {
      "image/png": "[encoded data removed]",
      "text/plain": [
       "<Figure size 432x288 with 1 Axes>"
      ]
     },
     "metadata": {
      "needs_background": "light"
     },
     "output_type": "display_data"
    }
   ],
   "source": [
    "no_date['Task'].value_counts().plot(kind='bar')"
   ]
  },
  {
   "cell_type": "markdown",
   "metadata": {},
   "source": [
    "###### more than half the events with no 'Date Added' records were ussd 'Dial' tasks \n",
    "\n",
    "##### ***Find out why?"
   ]
  },
  {
   "cell_type": "markdown",
   "metadata": {},
   "source": [
    "### Explore data with no 'Phone' record"
   ]
  },
  {
   "cell_type": "code",
   "execution_count": 17,
   "metadata": {},
   "outputs": [
    {
     "data": {
      "text/html": [
       "<div>\n",
       "<style scoped>\n",
       "    .dataframe tbody tr th:only-of-type {\n",
       "        vertical-align: middle;\n",
       "    }\n",
       "\n",
       "    .dataframe tbody tr th {\n",
       "        vertical-align: top;\n",
       "    }\n",
       "\n",
       "    .dataframe thead th {\n",
       "        text-align: right;\n",
       "    }\n",
       "</style>\n",
       "<table border=\"1\" class=\"dataframe\">\n",
       "  <thead>\n",
       "    <tr style=\"text-align: right;\">\n",
       "      <th></th>\n",
       "      <th>ID</th>\n",
       "      <th>Date Added</th>\n",
       "      <th>Outcome</th>\n",
       "      <th>Phone</th>\n",
       "      <th>Response</th>\n",
       "      <th>Task</th>\n",
       "    </tr>\n",
       "  </thead>\n",
       "  <tbody>\n",
       "    <tr>\n",
       "      <td>28</td>\n",
       "      <td>106639</td>\n",
       "      <td>2020-05-03T18:35:33+03:00</td>\n",
       "      <td>Error</td>\n",
       "      <td>NaN</td>\n",
       "      <td>java.lang.NullPointerException\\n</td>\n",
       "      <td>FetchProducts</td>\n",
       "    </tr>\n",
       "    <tr>\n",
       "      <td>29</td>\n",
       "      <td>106637</td>\n",
       "      <td>2020-05-03T18:35:33+03:00</td>\n",
       "      <td>Error</td>\n",
       "      <td>NaN</td>\n",
       "      <td>java.lang.NullPointerException\\n</td>\n",
       "      <td>FetchCustomer</td>\n",
       "    </tr>\n",
       "    <tr>\n",
       "      <td>30</td>\n",
       "      <td>106635</td>\n",
       "      <td>2020-05-03T18:35:32+03:00</td>\n",
       "      <td>Error</td>\n",
       "      <td>NaN</td>\n",
       "      <td>java.lang.NullPointerException\\n</td>\n",
       "      <td>FetchCustomer</td>\n",
       "    </tr>\n",
       "    <tr>\n",
       "      <td>36</td>\n",
       "      <td>106623</td>\n",
       "      <td>2020-05-03T18:30:34+03:00</td>\n",
       "      <td>Error</td>\n",
       "      <td>NaN</td>\n",
       "      <td>java.lang.NullPointerException\\n</td>\n",
       "      <td>FetchCustomer</td>\n",
       "    </tr>\n",
       "    <tr>\n",
       "      <td>130</td>\n",
       "      <td>106435</td>\n",
       "      <td>2020-05-03T17:26:29+03:00</td>\n",
       "      <td>Error</td>\n",
       "      <td>NaN</td>\n",
       "      <td>java.lang.NullPointerException\\n</td>\n",
       "      <td>FetchProducts</td>\n",
       "    </tr>\n",
       "  </tbody>\n",
       "</table>\n",
       "</div>"
      ],
      "text/plain": [
       "         ID                 Date Added Outcome  Phone  \\\n",
       "28   106639  2020-05-03T18:35:33+03:00   Error    NaN   \n",
       "29   106637  2020-05-03T18:35:33+03:00   Error    NaN   \n",
       "30   106635  2020-05-03T18:35:32+03:00   Error    NaN   \n",
       "36   106623  2020-05-03T18:30:34+03:00   Error    NaN   \n",
       "130  106435  2020-05-03T17:26:29+03:00   Error    NaN   \n",
       "\n",
       "                             Response           Task  \n",
       "28   java.lang.NullPointerException\\n  FetchProducts  \n",
       "29   java.lang.NullPointerException\\n  FetchCustomer  \n",
       "30   java.lang.NullPointerException\\n  FetchCustomer  \n",
       "36   java.lang.NullPointerException\\n  FetchCustomer  \n",
       "130  java.lang.NullPointerException\\n  FetchProducts  "
      ]
     },
     "execution_count": 17,
     "metadata": {},
     "output_type": "execute_result"
    }
   ],
   "source": [
    "#filter out events with no record for Phone\n",
    "\n",
    "no_phone=data[data['Phone'].isnull()]\n",
    "no_phone.head()"
   ]
  },
  {
   "cell_type": "markdown",
   "metadata": {},
   "source": [
    "###  Proportion of tasks with no phone number"
   ]
  },
  {
   "cell_type": "code",
   "execution_count": 18,
   "metadata": {},
   "outputs": [
    {
     "data": {
      "text/plain": [
       "<matplotlib.axes._subplots.AxesSubplot at 0x18c83cec188>"
      ]
     },
     "execution_count": 18,
     "metadata": {},
     "output_type": "execute_result"
    },
    {
     "data": {
      "image/png": "[encoded data removed]",
      "text/plain": [
       "<Figure size 432x288 with 1 Axes>"
      ]
     },
     "metadata": {
      "needs_background": "light"
     },
     "output_type": "display_data"
    }
   ],
   "source": [
    "no_phone['Task'].value_counts().plot(kind='barh')"
   ]
  },
  {
   "cell_type": "markdown",
   "metadata": {},
   "source": [
    "#####  events with no records for phone number were either 'FetchProducts' or 'FetchCustomer' which indicates customer accessed ussd but couldn't access order menu"
   ]
  },
  {
   "cell_type": "markdown",
   "metadata": {},
   "source": [
    "### Drop data with no 'Date Added' record,  Add 'Event Time', 'Event Date' & 'Event Hour' Columns\n",
    "\n",
    "we drop data with no date since we want to investigate based on a time period, then filter data to just show events for the last one week.\n",
    "\n",
    "we break down 'Date Added' in the remaining events so that we can investigate timestamp specifics for them"
   ]
  },
  {
   "cell_type": "code",
   "execution_count": 19,
   "metadata": {},
   "outputs": [
    {
     "name": "stdout",
     "output_type": "stream",
     "text": [
      "(49374, 9)\n"
     ]
    },
    {
     "data": {
      "text/html": [
       "<div>\n",
       "<style scoped>\n",
       "    .dataframe tbody tr th:only-of-type {\n",
       "        vertical-align: middle;\n",
       "    }\n",
       "\n",
       "    .dataframe tbody tr th {\n",
       "        vertical-align: top;\n",
       "    }\n",
       "\n",
       "    .dataframe thead th {\n",
       "        text-align: right;\n",
       "    }\n",
       "</style>\n",
       "<table border=\"1\" class=\"dataframe\">\n",
       "  <thead>\n",
       "    <tr style=\"text-align: right;\">\n",
       "      <th></th>\n",
       "      <th>ID</th>\n",
       "      <th>Date Added</th>\n",
       "      <th>Outcome</th>\n",
       "      <th>Phone</th>\n",
       "      <th>Response</th>\n",
       "      <th>Task</th>\n",
       "      <th>Event Time</th>\n",
       "      <th>Event Date</th>\n",
       "      <th>Event Hour</th>\n",
       "    </tr>\n",
       "  </thead>\n",
       "  <tbody>\n",
       "    <tr>\n",
       "      <td>0</td>\n",
       "      <td>106695</td>\n",
       "      <td>2020-05-04T08:22:31+03:00</td>\n",
       "      <td>SUCCESS</td>\n",
       "      <td>2.547640e+11</td>\n",
       "      <td>Order placed successfully</td>\n",
       "      <td>SubmitOrder</td>\n",
       "      <td>8:22</td>\n",
       "      <td>2020-05-04</td>\n",
       "      <td>8</td>\n",
       "    </tr>\n",
       "    <tr>\n",
       "      <td>1</td>\n",
       "      <td>106693</td>\n",
       "      <td>2020-05-04T08:21:03+03:00</td>\n",
       "      <td>SUCCESS</td>\n",
       "      <td>2.547640e+11</td>\n",
       "      <td>Phone number found</td>\n",
       "      <td>Dial</td>\n",
       "      <td>8:21</td>\n",
       "      <td>2020-05-04</td>\n",
       "      <td>8</td>\n",
       "    </tr>\n",
       "    <tr>\n",
       "      <td>2</td>\n",
       "      <td>106691</td>\n",
       "      <td>2020-05-04T07:38:17+03:00</td>\n",
       "      <td>SUCCESS</td>\n",
       "      <td>2.547644e+11</td>\n",
       "      <td>Order placed successfully</td>\n",
       "      <td>SubmitOrder</td>\n",
       "      <td>7:38</td>\n",
       "      <td>2020-05-04</td>\n",
       "      <td>7</td>\n",
       "    </tr>\n",
       "    <tr>\n",
       "      <td>3</td>\n",
       "      <td>106689</td>\n",
       "      <td>2020-05-04T07:37:30+03:00</td>\n",
       "      <td>SUCCESS</td>\n",
       "      <td>2.547644e+11</td>\n",
       "      <td>Phone number found</td>\n",
       "      <td>Dial</td>\n",
       "      <td>7:37</td>\n",
       "      <td>2020-05-04</td>\n",
       "      <td>7</td>\n",
       "    </tr>\n",
       "    <tr>\n",
       "      <td>4</td>\n",
       "      <td>106687</td>\n",
       "      <td>2020-05-04T07:15:27+03:00</td>\n",
       "      <td>SUCCESS</td>\n",
       "      <td>2.547645e+11</td>\n",
       "      <td>Order placed successfully</td>\n",
       "      <td>SubmitOrder</td>\n",
       "      <td>7:15</td>\n",
       "      <td>2020-05-04</td>\n",
       "      <td>7</td>\n",
       "    </tr>\n",
       "  </tbody>\n",
       "</table>\n",
       "</div>"
      ],
      "text/plain": [
       "       ID                 Date Added  Outcome         Phone  \\\n",
       "0  106695  2020-05-04T08:22:31+03:00  SUCCESS  2.547640e+11   \n",
       "1  106693  2020-05-04T08:21:03+03:00  SUCCESS  2.547640e+11   \n",
       "2  106691  2020-05-04T07:38:17+03:00  SUCCESS  2.547644e+11   \n",
       "3  106689  2020-05-04T07:37:30+03:00  SUCCESS  2.547644e+11   \n",
       "4  106687  2020-05-04T07:15:27+03:00  SUCCESS  2.547645e+11   \n",
       "\n",
       "                    Response         Task Event Time  Event Date Event Hour  \n",
       "0  Order placed successfully  SubmitOrder       8:22  2020-05-04          8  \n",
       "1         Phone number found         Dial       8:21  2020-05-04          8  \n",
       "2  Order placed successfully  SubmitOrder       7:38  2020-05-04          7  \n",
       "3         Phone number found         Dial       7:37  2020-05-04          7  \n",
       "4  Order placed successfully  SubmitOrder       7:15  2020-05-04          7  "
      ]
     },
     "execution_count": 19,
     "metadata": {},
     "output_type": "execute_result"
    }
   ],
   "source": [
    "data = data[data['Date Added'].notna()]\n",
    "data['Event Time']=data['Date Added'].str[12:16]\n",
    "data['Event Date']=data['Date Added'].str[:10]\n",
    "data['Event Hour']=data['Date Added'].str[12:13]\n",
    "\n",
    "print(data.shape)\n",
    "data.head()"
   ]
  },
  {
   "cell_type": "markdown",
   "metadata": {},
   "source": [
    "##### After droping events with no 'Date Added' record we now have 49,374 events"
   ]
  },
  {
   "cell_type": "markdown",
   "metadata": {},
   "source": [
    "### filter data for the period between 27-04-2020 and 4-05-2020"
   ]
  },
  {
   "cell_type": "code",
   "execution_count": 20,
   "metadata": {},
   "outputs": [
    {
     "name": "stdout",
     "output_type": "stream",
     "text": [
      "(4728, 9)\n"
     ]
    },
    {
     "data": {
      "text/html": [
       "<div>\n",
       "<style scoped>\n",
       "    .dataframe tbody tr th:only-of-type {\n",
       "        vertical-align: middle;\n",
       "    }\n",
       "\n",
       "    .dataframe tbody tr th {\n",
       "        vertical-align: top;\n",
       "    }\n",
       "\n",
       "    .dataframe thead th {\n",
       "        text-align: right;\n",
       "    }\n",
       "</style>\n",
       "<table border=\"1\" class=\"dataframe\">\n",
       "  <thead>\n",
       "    <tr style=\"text-align: right;\">\n",
       "      <th></th>\n",
       "      <th>ID</th>\n",
       "      <th>Date Added</th>\n",
       "      <th>Outcome</th>\n",
       "      <th>Phone</th>\n",
       "      <th>Response</th>\n",
       "      <th>Task</th>\n",
       "      <th>Event Time</th>\n",
       "      <th>Event Date</th>\n",
       "      <th>Event Hour</th>\n",
       "    </tr>\n",
       "  </thead>\n",
       "  <tbody>\n",
       "    <tr>\n",
       "      <td>0</td>\n",
       "      <td>106695</td>\n",
       "      <td>2020-05-04T08:22:31+03:00</td>\n",
       "      <td>SUCCESS</td>\n",
       "      <td>2.547640e+11</td>\n",
       "      <td>Order placed successfully</td>\n",
       "      <td>SubmitOrder</td>\n",
       "      <td>8:22</td>\n",
       "      <td>2020-05-04</td>\n",
       "      <td>8</td>\n",
       "    </tr>\n",
       "    <tr>\n",
       "      <td>1</td>\n",
       "      <td>106693</td>\n",
       "      <td>2020-05-04T08:21:03+03:00</td>\n",
       "      <td>SUCCESS</td>\n",
       "      <td>2.547640e+11</td>\n",
       "      <td>Phone number found</td>\n",
       "      <td>Dial</td>\n",
       "      <td>8:21</td>\n",
       "      <td>2020-05-04</td>\n",
       "      <td>8</td>\n",
       "    </tr>\n",
       "    <tr>\n",
       "      <td>2</td>\n",
       "      <td>106691</td>\n",
       "      <td>2020-05-04T07:38:17+03:00</td>\n",
       "      <td>SUCCESS</td>\n",
       "      <td>2.547644e+11</td>\n",
       "      <td>Order placed successfully</td>\n",
       "      <td>SubmitOrder</td>\n",
       "      <td>7:38</td>\n",
       "      <td>2020-05-04</td>\n",
       "      <td>7</td>\n",
       "    </tr>\n",
       "    <tr>\n",
       "      <td>3</td>\n",
       "      <td>106689</td>\n",
       "      <td>2020-05-04T07:37:30+03:00</td>\n",
       "      <td>SUCCESS</td>\n",
       "      <td>2.547644e+11</td>\n",
       "      <td>Phone number found</td>\n",
       "      <td>Dial</td>\n",
       "      <td>7:37</td>\n",
       "      <td>2020-05-04</td>\n",
       "      <td>7</td>\n",
       "    </tr>\n",
       "    <tr>\n",
       "      <td>4</td>\n",
       "      <td>106687</td>\n",
       "      <td>2020-05-04T07:15:27+03:00</td>\n",
       "      <td>SUCCESS</td>\n",
       "      <td>2.547645e+11</td>\n",
       "      <td>Order placed successfully</td>\n",
       "      <td>SubmitOrder</td>\n",
       "      <td>7:15</td>\n",
       "      <td>2020-05-04</td>\n",
       "      <td>7</td>\n",
       "    </tr>\n",
       "  </tbody>\n",
       "</table>\n",
       "</div>"
      ],
      "text/plain": [
       "       ID                 Date Added  Outcome         Phone  \\\n",
       "0  106695  2020-05-04T08:22:31+03:00  SUCCESS  2.547640e+11   \n",
       "1  106693  2020-05-04T08:21:03+03:00  SUCCESS  2.547640e+11   \n",
       "2  106691  2020-05-04T07:38:17+03:00  SUCCESS  2.547644e+11   \n",
       "3  106689  2020-05-04T07:37:30+03:00  SUCCESS  2.547644e+11   \n",
       "4  106687  2020-05-04T07:15:27+03:00  SUCCESS  2.547645e+11   \n",
       "\n",
       "                    Response         Task Event Time  Event Date Event Hour  \n",
       "0  Order placed successfully  SubmitOrder       8:22  2020-05-04          8  \n",
       "1         Phone number found         Dial       8:21  2020-05-04          8  \n",
       "2  Order placed successfully  SubmitOrder       7:38  2020-05-04          7  \n",
       "3         Phone number found         Dial       7:37  2020-05-04          7  \n",
       "4  Order placed successfully  SubmitOrder       7:15  2020-05-04          7  "
      ]
     },
     "execution_count": 20,
     "metadata": {},
     "output_type": "execute_result"
    }
   ],
   "source": [
    "start_date='2020-04-27'\n",
    "end_date='2020-05-04'\n",
    "mask=(data['Event Date']>start_date) & (data['Event Date']<=end_date)\n",
    "data=data.loc[mask]\n",
    "print(data.shape)\n",
    "data.head()"
   ]
  },
  {
   "cell_type": "markdown",
   "metadata": {},
   "source": [
    "##### About 4,728 events took place between 27th April and 4th May 2020"
   ]
  },
  {
   "cell_type": "markdown",
   "metadata": {},
   "source": [
    "### Proportions of events outcomes"
   ]
  },
  {
   "cell_type": "code",
   "execution_count": 21,
   "metadata": {},
   "outputs": [
    {
     "data": {
      "text/plain": [
       "<matplotlib.axes._subplots.AxesSubplot at 0x18c8477d688>"
      ]
     },
     "execution_count": 21,
     "metadata": {},
     "output_type": "execute_result"
    },
    {
     "data": {
      "image/png": "[encoded data removed]",
      "text/plain": [
       "<Figure size 432x288 with 1 Axes>"
      ]
     },
     "metadata": {},
     "output_type": "display_data"
    }
   ],
   "source": [
    "data['Outcome'].value_counts().plot(kind='pie')"
   ]
  },
  {
   "cell_type": "markdown",
   "metadata": {},
   "source": [
    "### Proportion of events by hour of day"
   ]
  },
  {
   "cell_type": "code",
   "execution_count": 22,
   "metadata": {},
   "outputs": [
    {
     "data": {
      "text/plain": [
       "<matplotlib.axes._subplots.AxesSubplot at 0x18c83e1b6c8>"
      ]
     },
     "execution_count": 22,
     "metadata": {},
     "output_type": "execute_result"
    },
    {
     "data": {
      "image/png": "[encoded data removed]",
      "text/plain": [
       "<Figure size 432x288 with 1 Axes>"
      ]
     },
     "metadata": {
      "needs_background": "light"
     },
     "output_type": "display_data"
    }
   ],
   "source": [
    "data['Event Hour'].value_counts().plot(kind='bar')"
   ]
  },
  {
   "cell_type": "markdown",
   "metadata": {},
   "source": [
    "##### Most Events took place between 5 and 7 pm"
   ]
  },
  {
   "cell_type": "code",
   "execution_count": null,
   "metadata": {},
   "outputs": [],
   "source": []
  }
 ],
 "metadata": {
  "kernelspec": {
   "display_name": "Python 3",
   "language": "python",
   "name": "python3"
  },
  "language_info": {
   "codemirror_mode": {
    "name": "ipython",
    "version": 3
   },
   "file_extension": ".py",
   "mimetype": "text/x-python",
   "name": "python",
   "nbconvert_exporter": "python",
   "pygments_lexer": "ipython3",
   "version": "3.7.4"
  }
 },
 "nbformat": 4,
 "nbformat_minor": 2
}
